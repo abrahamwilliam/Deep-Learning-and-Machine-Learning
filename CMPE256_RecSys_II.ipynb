{
 "cells": [
  {
   "cell_type": "markdown",
   "metadata": {
    "collapsed": true
   },
   "source": [
    "## (30%) Finding similiarity\n",
    "Distance based metrics are commonly used methods to create similiarity between two items. This similarity will be applied in content-based recommendation. They also have been used for a long time in Information Retrieval methods.\n",
    "\n",
    "Here is a good article on [Distance Metrics for Fun and Profit](http://www.benfrederickson.com/distance-metrics/) by Ben on better understanding of these metrics\n",
    "\n",
    "Could you based on the provided dataset (stories.csv) to generate similarity matrix between each story? The i, j, cell of this matrix will store the similarity value between story i and story j. You can define your own similarity measures.   "
   ]
  },
  {
   "cell_type": "markdown",
   "metadata": {},
   "source": [
    "#### Solutions"
   ]
  },
  {
   "cell_type": "code",
   "execution_count": null,
   "metadata": {},
   "outputs": [],
   "source": []
  },
  {
   "cell_type": "code",
   "execution_count": 1,
   "metadata": {},
   "outputs": [],
   "source": [
    "import pandas as pd"
   ]
  },
  {
   "cell_type": "code",
   "execution_count": 2,
   "metadata": {},
   "outputs": [],
   "source": [
    "stories = pd.read_csv(\"C:/Users/shihyuch/rouseguy_recsys_workshop/recommendation-master/data/stories.csv\", low_memory=False)"
   ]
  },
  {
   "cell_type": "code",
   "execution_count": 3,
   "metadata": {},
   "outputs": [
    {
     "data": {
      "text/html": [
       "<div>\n",
       "<style scoped>\n",
       "    .dataframe tbody tr th:only-of-type {\n",
       "        vertical-align: middle;\n",
       "    }\n",
       "\n",
       "    .dataframe tbody tr th {\n",
       "        vertical-align: top;\n",
       "    }\n",
       "\n",
       "    .dataframe thead th {\n",
       "        text-align: right;\n",
       "    }\n",
       "</style>\n",
       "<table border=\"1\" class=\"dataframe\">\n",
       "  <thead>\n",
       "    <tr style=\"text-align: right;\">\n",
       "      <th></th>\n",
       "      <th>story</th>\n",
       "      <th>title</th>\n",
       "      <th>score</th>\n",
       "      <th>user</th>\n",
       "    </tr>\n",
       "  </thead>\n",
       "  <tbody>\n",
       "    <tr>\n",
       "      <th>0</th>\n",
       "      <td>14274033</td>\n",
       "      <td>Uber is valued at $70B, you can get it at $999</td>\n",
       "      <td>503</td>\n",
       "      <td>appoets</td>\n",
       "    </tr>\n",
       "    <tr>\n",
       "      <th>1</th>\n",
       "      <td>14107522</td>\n",
       "      <td>Jeff Bezos? Annual Letter</td>\n",
       "      <td>547</td>\n",
       "      <td>djyaz1200</td>\n",
       "    </tr>\n",
       "    <tr>\n",
       "      <th>2</th>\n",
       "      <td>13647190</td>\n",
       "      <td>India has banned disposable plastic in Delhi</td>\n",
       "      <td>671</td>\n",
       "      <td>SimplyUseless</td>\n",
       "    </tr>\n",
       "    <tr>\n",
       "      <th>3</th>\n",
       "      <td>13309610</td>\n",
       "      <td>Startup Puts Everything You Need for a Two-Acr...</td>\n",
       "      <td>511</td>\n",
       "      <td>kungfudoi</td>\n",
       "    </tr>\n",
       "    <tr>\n",
       "      <th>4</th>\n",
       "      <td>13860890</td>\n",
       "      <td>The Uber Bombshell About to Drop</td>\n",
       "      <td>1089</td>\n",
       "      <td>dantiberian</td>\n",
       "    </tr>\n",
       "  </tbody>\n",
       "</table>\n",
       "</div>"
      ],
      "text/plain": [
       "      story                                              title  score  \\\n",
       "0  14274033     Uber is valued at $70B, you can get it at $999    503   \n",
       "1  14107522                          Jeff Bezos? Annual Letter    547   \n",
       "2  13647190       India has banned disposable plastic in Delhi    671   \n",
       "3  13309610  Startup Puts Everything You Need for a Two-Acr...    511   \n",
       "4  13860890                   The Uber Bombshell About to Drop   1089   \n",
       "\n",
       "            user  \n",
       "0        appoets  \n",
       "1      djyaz1200  \n",
       "2  SimplyUseless  \n",
       "3      kungfudoi  \n",
       "4    dantiberian  "
      ]
     },
     "execution_count": 3,
     "metadata": {},
     "output_type": "execute_result"
    }
   ],
   "source": [
    "stories.head()"
   ]
  },
  {
   "cell_type": "markdown",
   "metadata": {},
   "source": [
    "## Creating More features from Title"
   ]
  },
  {
   "cell_type": "code",
   "execution_count": null,
   "metadata": {},
   "outputs": [],
   "source": [
    "! pip install spacy"
   ]
  },
  {
   "cell_type": "code",
   "execution_count": 26,
   "metadata": {
    "collapsed": true
   },
   "outputs": [],
   "source": [
    "! python -m spacy download en"
   ]
  },
  {
   "cell_type": "code",
   "execution_count": 7,
   "metadata": {},
   "outputs": [],
   "source": [
    "# Lets use spact\n",
    "import spacy\n",
    "nlp = spacy.load('en')"
   ]
  },
  {
   "cell_type": "code",
   "execution_count": 9,
   "metadata": {},
   "outputs": [],
   "source": [
    "title0 = nlp(stories.title[0])\n",
    "title1 = nlp(stories.title[1])"
   ]
  },
  {
   "cell_type": "code",
   "execution_count": 10,
   "metadata": {},
   "outputs": [
    {
     "data": {
      "text/plain": [
       "(Uber is valued at $70B, you can get it at $999, Jeff Bezos? Annual Letter)"
      ]
     },
     "execution_count": 10,
     "metadata": {},
     "output_type": "execute_result"
    }
   ],
   "source": [
    "title0, title1 "
   ]
  },
  {
   "cell_type": "code",
   "execution_count": 11,
   "metadata": {},
   "outputs": [
    {
     "data": {
      "text/plain": [
       "(384, 384)"
      ]
     },
     "execution_count": 11,
     "metadata": {},
     "output_type": "execute_result"
    }
   ],
   "source": [
    "len(title0.vector), len(title1.vector)"
   ]
  },
  {
   "cell_type": "code",
   "execution_count": 12,
   "metadata": {},
   "outputs": [
    {
     "data": {
      "text/plain": [
       "0.2867952452610529"
      ]
     },
     "execution_count": 12,
     "metadata": {},
     "output_type": "execute_result"
    }
   ],
   "source": [
    "title0.similarity(title1)"
   ]
  },
  {
   "cell_type": "code",
   "execution_count": 13,
   "metadata": {},
   "outputs": [],
   "source": [
    "story_similarity = []"
   ]
  },
  {
   "cell_type": "markdown",
   "metadata": {},
   "source": [
    "The below code is time consuming - and so, we will run it only for the first 100 titles"
   ]
  },
  {
   "cell_type": "code",
   "execution_count": 14,
   "metadata": {},
   "outputs": [
    {
     "name": "stdout",
     "output_type": "stream",
     "text": [
      "Wall time: 4min 58s\n"
     ]
    }
   ],
   "source": [
    "%%time \n",
    "\n",
    "for story_row in stories.title[:100]:\n",
    "    for story_column in stories.title[:100]:\n",
    "        story_sim = nlp(story_row).similarity(nlp(story_column))\n",
    "        story_similarity.append([story_row, story_column, story_sim])"
   ]
  },
  {
   "cell_type": "code",
   "execution_count": 15,
   "metadata": {},
   "outputs": [],
   "source": [
    "story_similarity = pd.DataFrame(story_similarity,\n",
    "                               columns = [\"story1\", \"story2\", \"similarity\"] )"
   ]
  },
  {
   "cell_type": "code",
   "execution_count": 16,
   "metadata": {},
   "outputs": [
    {
     "data": {
      "text/html": [
       "<div>\n",
       "<style scoped>\n",
       "    .dataframe tbody tr th:only-of-type {\n",
       "        vertical-align: middle;\n",
       "    }\n",
       "\n",
       "    .dataframe tbody tr th {\n",
       "        vertical-align: top;\n",
       "    }\n",
       "\n",
       "    .dataframe thead th {\n",
       "        text-align: right;\n",
       "    }\n",
       "</style>\n",
       "<table border=\"1\" class=\"dataframe\">\n",
       "  <thead>\n",
       "    <tr style=\"text-align: right;\">\n",
       "      <th></th>\n",
       "      <th>story1</th>\n",
       "      <th>story2</th>\n",
       "      <th>similarity</th>\n",
       "    </tr>\n",
       "  </thead>\n",
       "  <tbody>\n",
       "    <tr>\n",
       "      <th>0</th>\n",
       "      <td>Uber is valued at $70B, you can get it at $999</td>\n",
       "      <td>Uber is valued at $70B, you can get it at $999</td>\n",
       "      <td>1.000000</td>\n",
       "    </tr>\n",
       "    <tr>\n",
       "      <th>1</th>\n",
       "      <td>Uber is valued at $70B, you can get it at $999</td>\n",
       "      <td>Jeff Bezos? Annual Letter</td>\n",
       "      <td>0.286795</td>\n",
       "    </tr>\n",
       "    <tr>\n",
       "      <th>2</th>\n",
       "      <td>Uber is valued at $70B, you can get it at $999</td>\n",
       "      <td>India has banned disposable plastic in Delhi</td>\n",
       "      <td>0.479615</td>\n",
       "    </tr>\n",
       "    <tr>\n",
       "      <th>3</th>\n",
       "      <td>Uber is valued at $70B, you can get it at $999</td>\n",
       "      <td>Startup Puts Everything You Need for a Two-Acr...</td>\n",
       "      <td>0.460328</td>\n",
       "    </tr>\n",
       "    <tr>\n",
       "      <th>4</th>\n",
       "      <td>Uber is valued at $70B, you can get it at $999</td>\n",
       "      <td>The Uber Bombshell About to Drop</td>\n",
       "      <td>0.413896</td>\n",
       "    </tr>\n",
       "  </tbody>\n",
       "</table>\n",
       "</div>"
      ],
      "text/plain": [
       "                                           story1  \\\n",
       "0  Uber is valued at $70B, you can get it at $999   \n",
       "1  Uber is valued at $70B, you can get it at $999   \n",
       "2  Uber is valued at $70B, you can get it at $999   \n",
       "3  Uber is valued at $70B, you can get it at $999   \n",
       "4  Uber is valued at $70B, you can get it at $999   \n",
       "\n",
       "                                              story2  similarity  \n",
       "0     Uber is valued at $70B, you can get it at $999    1.000000  \n",
       "1                          Jeff Bezos? Annual Letter    0.286795  \n",
       "2       India has banned disposable plastic in Delhi    0.479615  \n",
       "3  Startup Puts Everything You Need for a Two-Acr...    0.460328  \n",
       "4                   The Uber Bombshell About to Drop    0.413896  "
      ]
     },
     "execution_count": 16,
     "metadata": {},
     "output_type": "execute_result"
    }
   ],
   "source": [
    "story_similarity.head()"
   ]
  },
  {
   "cell_type": "code",
   "execution_count": 17,
   "metadata": {},
   "outputs": [],
   "source": [
    "similarity_matrix = pd.pivot(story_similarity.story1,\n",
    "        story_similarity.story2,\n",
    "        story_similarity.similarity)"
   ]
  },
  {
   "cell_type": "code",
   "execution_count": 18,
   "metadata": {},
   "outputs": [
    {
     "data": {
      "text/html": [
       "<div>\n",
       "<style scoped>\n",
       "    .dataframe tbody tr th:only-of-type {\n",
       "        vertical-align: middle;\n",
       "    }\n",
       "\n",
       "    .dataframe tbody tr th {\n",
       "        vertical-align: top;\n",
       "    }\n",
       "\n",
       "    .dataframe thead th {\n",
       "        text-align: right;\n",
       "    }\n",
       "</style>\n",
       "<table border=\"1\" class=\"dataframe\">\n",
       "  <thead>\n",
       "    <tr style=\"text-align: right;\">\n",
       "      <th>story2</th>\n",
       "      <th>1Password Travel Mode: Protect your data when crossing borders</th>\n",
       "      <th>94-year-old Lithium-Ion Battery Inventor Introduces Solid State Battery</th>\n",
       "      <th>?Startup? asks internship applicant to build their app before phone screen</th>\n",
       "      <th>?The moon blew up without warning and for no apparent reason?</th>\n",
       "      <th>A crashed advertisement reveals logs of a facial recognition system</th>\n",
       "      <th>A lawsuit over Costco golf balls</th>\n",
       "      <th>A rising sentiment that IBM?s Watson can?t deliver on its promises</th>\n",
       "      <th>AMA: NY AG Schneiderman on net neutrality and protecting our voice in government</th>\n",
       "      <th>Accidentally destroyed production database on first day of a job</th>\n",
       "      <th>Afraid of Makefiles? Don't be</th>\n",
       "      <th>...</th>\n",
       "      <th>Welcome, ACLU</th>\n",
       "      <th>What Is Ethereum?</th>\n",
       "      <th>What the CIA WikiLeaks Dump Tells Us: Encryption Works</th>\n",
       "      <th>Whistleblower uncovers London police hacking of journalists and protestors</th>\n",
       "      <th>Why F.E.A.R.?s AI is still the best in first-person shooters</th>\n",
       "      <th>Why Should I Start a Startup?</th>\n",
       "      <th>Why Slack is inappropriate for open source communications</th>\n",
       "      <th>Why We Must Fight for the Right to Repair Our Electronics</th>\n",
       "      <th>Why do many math books have so much detail and so little enlightenment? (2010)</th>\n",
       "      <th>YC will hold interviews in Vancouver for founders who can?t get US visas</th>\n",
       "    </tr>\n",
       "    <tr>\n",
       "      <th>story1</th>\n",
       "      <th></th>\n",
       "      <th></th>\n",
       "      <th></th>\n",
       "      <th></th>\n",
       "      <th></th>\n",
       "      <th></th>\n",
       "      <th></th>\n",
       "      <th></th>\n",
       "      <th></th>\n",
       "      <th></th>\n",
       "      <th></th>\n",
       "      <th></th>\n",
       "      <th></th>\n",
       "      <th></th>\n",
       "      <th></th>\n",
       "      <th></th>\n",
       "      <th></th>\n",
       "      <th></th>\n",
       "      <th></th>\n",
       "      <th></th>\n",
       "      <th></th>\n",
       "    </tr>\n",
       "  </thead>\n",
       "  <tbody>\n",
       "    <tr>\n",
       "      <th>1Password Travel Mode: Protect your data when crossing borders</th>\n",
       "      <td>1.000000</td>\n",
       "      <td>0.615669</td>\n",
       "      <td>0.526267</td>\n",
       "      <td>0.282099</td>\n",
       "      <td>0.452962</td>\n",
       "      <td>0.603753</td>\n",
       "      <td>0.568304</td>\n",
       "      <td>0.663224</td>\n",
       "      <td>0.422880</td>\n",
       "      <td>0.401323</td>\n",
       "      <td>...</td>\n",
       "      <td>0.349826</td>\n",
       "      <td>0.288586</td>\n",
       "      <td>0.647402</td>\n",
       "      <td>0.606815</td>\n",
       "      <td>0.481515</td>\n",
       "      <td>0.525660</td>\n",
       "      <td>0.537459</td>\n",
       "      <td>0.509209</td>\n",
       "      <td>0.423268</td>\n",
       "      <td>0.533180</td>\n",
       "    </tr>\n",
       "    <tr>\n",
       "      <th>94-year-old Lithium-Ion Battery Inventor Introduces Solid State Battery</th>\n",
       "      <td>0.615669</td>\n",
       "      <td>1.000000</td>\n",
       "      <td>0.231294</td>\n",
       "      <td>0.283840</td>\n",
       "      <td>0.307012</td>\n",
       "      <td>0.545492</td>\n",
       "      <td>0.386210</td>\n",
       "      <td>0.640681</td>\n",
       "      <td>0.345800</td>\n",
       "      <td>0.270838</td>\n",
       "      <td>...</td>\n",
       "      <td>0.361119</td>\n",
       "      <td>0.217021</td>\n",
       "      <td>0.624808</td>\n",
       "      <td>0.441978</td>\n",
       "      <td>0.374290</td>\n",
       "      <td>0.340811</td>\n",
       "      <td>0.388952</td>\n",
       "      <td>0.438548</td>\n",
       "      <td>0.188818</td>\n",
       "      <td>0.367617</td>\n",
       "    </tr>\n",
       "    <tr>\n",
       "      <th>?Startup? asks internship applicant to build their app before phone screen</th>\n",
       "      <td>0.526267</td>\n",
       "      <td>0.231294</td>\n",
       "      <td>1.000000</td>\n",
       "      <td>0.663362</td>\n",
       "      <td>0.595468</td>\n",
       "      <td>0.513366</td>\n",
       "      <td>0.664473</td>\n",
       "      <td>0.599533</td>\n",
       "      <td>0.723266</td>\n",
       "      <td>0.446101</td>\n",
       "      <td>...</td>\n",
       "      <td>0.291643</td>\n",
       "      <td>0.350131</td>\n",
       "      <td>0.444095</td>\n",
       "      <td>0.375469</td>\n",
       "      <td>0.546044</td>\n",
       "      <td>0.483524</td>\n",
       "      <td>0.588525</td>\n",
       "      <td>0.493852</td>\n",
       "      <td>0.657745</td>\n",
       "      <td>0.499230</td>\n",
       "    </tr>\n",
       "    <tr>\n",
       "      <th>?The moon blew up without warning and for no apparent reason?</th>\n",
       "      <td>0.282099</td>\n",
       "      <td>0.283840</td>\n",
       "      <td>0.663362</td>\n",
       "      <td>1.000000</td>\n",
       "      <td>0.620172</td>\n",
       "      <td>0.493994</td>\n",
       "      <td>0.460750</td>\n",
       "      <td>0.599025</td>\n",
       "      <td>0.719966</td>\n",
       "      <td>0.208914</td>\n",
       "      <td>...</td>\n",
       "      <td>0.258612</td>\n",
       "      <td>0.325860</td>\n",
       "      <td>0.346406</td>\n",
       "      <td>0.286706</td>\n",
       "      <td>0.475740</td>\n",
       "      <td>0.373692</td>\n",
       "      <td>0.436561</td>\n",
       "      <td>0.419300</td>\n",
       "      <td>0.528632</td>\n",
       "      <td>0.269890</td>\n",
       "    </tr>\n",
       "    <tr>\n",
       "      <th>A crashed advertisement reveals logs of a facial recognition system</th>\n",
       "      <td>0.452962</td>\n",
       "      <td>0.307012</td>\n",
       "      <td>0.595468</td>\n",
       "      <td>0.620172</td>\n",
       "      <td>1.000000</td>\n",
       "      <td>0.639534</td>\n",
       "      <td>0.715270</td>\n",
       "      <td>0.599737</td>\n",
       "      <td>0.757002</td>\n",
       "      <td>0.091097</td>\n",
       "      <td>...</td>\n",
       "      <td>0.094465</td>\n",
       "      <td>0.087147</td>\n",
       "      <td>0.378254</td>\n",
       "      <td>0.574337</td>\n",
       "      <td>0.609272</td>\n",
       "      <td>0.134910</td>\n",
       "      <td>0.584835</td>\n",
       "      <td>0.187485</td>\n",
       "      <td>0.450068</td>\n",
       "      <td>0.394573</td>\n",
       "    </tr>\n",
       "  </tbody>\n",
       "</table>\n",
       "<p>5 rows × 100 columns</p>\n",
       "</div>"
      ],
      "text/plain": [
       "story2                                              1Password Travel Mode: Protect your data when crossing borders  \\\n",
       "story1                                                                                                               \n",
       "1Password Travel Mode: Protect your data when c...                                           1.000000                \n",
       "94-year-old Lithium-Ion Battery Inventor Introd...                                           0.615669                \n",
       "?Startup? asks internship applicant to build th...                                           0.526267                \n",
       "?The moon blew up without warning and for no ap...                                           0.282099                \n",
       "A crashed advertisement reveals logs of a facia...                                           0.452962                \n",
       "\n",
       "story2                                              94-year-old Lithium-Ion Battery Inventor Introduces Solid State Battery  \\\n",
       "story1                                                                                                                        \n",
       "1Password Travel Mode: Protect your data when c...                                           0.615669                         \n",
       "94-year-old Lithium-Ion Battery Inventor Introd...                                           1.000000                         \n",
       "?Startup? asks internship applicant to build th...                                           0.231294                         \n",
       "?The moon blew up without warning and for no ap...                                           0.283840                         \n",
       "A crashed advertisement reveals logs of a facia...                                           0.307012                         \n",
       "\n",
       "story2                                              ?Startup? asks internship applicant to build their app before phone screen  \\\n",
       "story1                                                                                                                           \n",
       "1Password Travel Mode: Protect your data when c...                                           0.526267                            \n",
       "94-year-old Lithium-Ion Battery Inventor Introd...                                           0.231294                            \n",
       "?Startup? asks internship applicant to build th...                                           1.000000                            \n",
       "?The moon blew up without warning and for no ap...                                           0.663362                            \n",
       "A crashed advertisement reveals logs of a facia...                                           0.595468                            \n",
       "\n",
       "story2                                              ?The moon blew up without warning and for no apparent reason?  \\\n",
       "story1                                                                                                              \n",
       "1Password Travel Mode: Protect your data when c...                                           0.282099               \n",
       "94-year-old Lithium-Ion Battery Inventor Introd...                                           0.283840               \n",
       "?Startup? asks internship applicant to build th...                                           0.663362               \n",
       "?The moon blew up without warning and for no ap...                                           1.000000               \n",
       "A crashed advertisement reveals logs of a facia...                                           0.620172               \n",
       "\n",
       "story2                                              A crashed advertisement reveals logs of a facial recognition system  \\\n",
       "story1                                                                                                                    \n",
       "1Password Travel Mode: Protect your data when c...                                           0.452962                     \n",
       "94-year-old Lithium-Ion Battery Inventor Introd...                                           0.307012                     \n",
       "?Startup? asks internship applicant to build th...                                           0.595468                     \n",
       "?The moon blew up without warning and for no ap...                                           0.620172                     \n",
       "A crashed advertisement reveals logs of a facia...                                           1.000000                     \n",
       "\n",
       "story2                                              A lawsuit over Costco golf balls  \\\n",
       "story1                                                                                 \n",
       "1Password Travel Mode: Protect your data when c...                          0.603753   \n",
       "94-year-old Lithium-Ion Battery Inventor Introd...                          0.545492   \n",
       "?Startup? asks internship applicant to build th...                          0.513366   \n",
       "?The moon blew up without warning and for no ap...                          0.493994   \n",
       "A crashed advertisement reveals logs of a facia...                          0.639534   \n",
       "\n",
       "story2                                              A rising sentiment that IBM?s Watson can?t deliver on its promises  \\\n",
       "story1                                                                                                                   \n",
       "1Password Travel Mode: Protect your data when c...                                           0.568304                    \n",
       "94-year-old Lithium-Ion Battery Inventor Introd...                                           0.386210                    \n",
       "?Startup? asks internship applicant to build th...                                           0.664473                    \n",
       "?The moon blew up without warning and for no ap...                                           0.460750                    \n",
       "A crashed advertisement reveals logs of a facia...                                           0.715270                    \n",
       "\n",
       "story2                                              AMA: NY AG Schneiderman on net neutrality and protecting our voice in government  \\\n",
       "story1                                                                                                                                 \n",
       "1Password Travel Mode: Protect your data when c...                                           0.663224                                  \n",
       "94-year-old Lithium-Ion Battery Inventor Introd...                                           0.640681                                  \n",
       "?Startup? asks internship applicant to build th...                                           0.599533                                  \n",
       "?The moon blew up without warning and for no ap...                                           0.599025                                  \n",
       "A crashed advertisement reveals logs of a facia...                                           0.599737                                  \n",
       "\n",
       "story2                                              Accidentally destroyed production database on first day of a job  \\\n",
       "story1                                                                                                                 \n",
       "1Password Travel Mode: Protect your data when c...                                           0.422880                  \n",
       "94-year-old Lithium-Ion Battery Inventor Introd...                                           0.345800                  \n",
       "?Startup? asks internship applicant to build th...                                           0.723266                  \n",
       "?The moon blew up without warning and for no ap...                                           0.719966                  \n",
       "A crashed advertisement reveals logs of a facia...                                           0.757002                  \n",
       "\n",
       "story2                                              Afraid of Makefiles? Don't be  \\\n",
       "story1                                                                              \n",
       "1Password Travel Mode: Protect your data when c...                       0.401323   \n",
       "94-year-old Lithium-Ion Battery Inventor Introd...                       0.270838   \n",
       "?Startup? asks internship applicant to build th...                       0.446101   \n",
       "?The moon blew up without warning and for no ap...                       0.208914   \n",
       "A crashed advertisement reveals logs of a facia...                       0.091097   \n",
       "\n",
       "story2                                                                                ...                                     \\\n",
       "story1                                                                                ...                                      \n",
       "1Password Travel Mode: Protect your data when c...                                    ...                                      \n",
       "94-year-old Lithium-Ion Battery Inventor Introd...                                    ...                                      \n",
       "?Startup? asks internship applicant to build th...                                    ...                                      \n",
       "?The moon blew up without warning and for no ap...                                    ...                                      \n",
       "A crashed advertisement reveals logs of a facia...                                    ...                                      \n",
       "\n",
       "story2                                              Welcome, ACLU  \\\n",
       "story1                                                              \n",
       "1Password Travel Mode: Protect your data when c...       0.349826   \n",
       "94-year-old Lithium-Ion Battery Inventor Introd...       0.361119   \n",
       "?Startup? asks internship applicant to build th...       0.291643   \n",
       "?The moon blew up without warning and for no ap...       0.258612   \n",
       "A crashed advertisement reveals logs of a facia...       0.094465   \n",
       "\n",
       "story2                                              What Is Ethereum?  \\\n",
       "story1                                                                  \n",
       "1Password Travel Mode: Protect your data when c...           0.288586   \n",
       "94-year-old Lithium-Ion Battery Inventor Introd...           0.217021   \n",
       "?Startup? asks internship applicant to build th...           0.350131   \n",
       "?The moon blew up without warning and for no ap...           0.325860   \n",
       "A crashed advertisement reveals logs of a facia...           0.087147   \n",
       "\n",
       "story2                                              What the CIA WikiLeaks Dump Tells Us: Encryption Works  \\\n",
       "story1                                                                                                       \n",
       "1Password Travel Mode: Protect your data when c...                                           0.647402        \n",
       "94-year-old Lithium-Ion Battery Inventor Introd...                                           0.624808        \n",
       "?Startup? asks internship applicant to build th...                                           0.444095        \n",
       "?The moon blew up without warning and for no ap...                                           0.346406        \n",
       "A crashed advertisement reveals logs of a facia...                                           0.378254        \n",
       "\n",
       "story2                                              Whistleblower uncovers London police hacking of journalists and protestors  \\\n",
       "story1                                                                                                                           \n",
       "1Password Travel Mode: Protect your data when c...                                           0.606815                            \n",
       "94-year-old Lithium-Ion Battery Inventor Introd...                                           0.441978                            \n",
       "?Startup? asks internship applicant to build th...                                           0.375469                            \n",
       "?The moon blew up without warning and for no ap...                                           0.286706                            \n",
       "A crashed advertisement reveals logs of a facia...                                           0.574337                            \n",
       "\n",
       "story2                                              Why F.E.A.R.?s AI is still the best in first-person shooters  \\\n",
       "story1                                                                                                             \n",
       "1Password Travel Mode: Protect your data when c...                                           0.481515              \n",
       "94-year-old Lithium-Ion Battery Inventor Introd...                                           0.374290              \n",
       "?Startup? asks internship applicant to build th...                                           0.546044              \n",
       "?The moon blew up without warning and for no ap...                                           0.475740              \n",
       "A crashed advertisement reveals logs of a facia...                                           0.609272              \n",
       "\n",
       "story2                                              Why Should I Start a Startup?  \\\n",
       "story1                                                                              \n",
       "1Password Travel Mode: Protect your data when c...                       0.525660   \n",
       "94-year-old Lithium-Ion Battery Inventor Introd...                       0.340811   \n",
       "?Startup? asks internship applicant to build th...                       0.483524   \n",
       "?The moon blew up without warning and for no ap...                       0.373692   \n",
       "A crashed advertisement reveals logs of a facia...                       0.134910   \n",
       "\n",
       "story2                                              Why Slack is inappropriate for open source communications  \\\n",
       "story1                                                                                                          \n",
       "1Password Travel Mode: Protect your data when c...                                           0.537459           \n",
       "94-year-old Lithium-Ion Battery Inventor Introd...                                           0.388952           \n",
       "?Startup? asks internship applicant to build th...                                           0.588525           \n",
       "?The moon blew up without warning and for no ap...                                           0.436561           \n",
       "A crashed advertisement reveals logs of a facia...                                           0.584835           \n",
       "\n",
       "story2                                              Why We Must Fight for the Right to Repair Our Electronics  \\\n",
       "story1                                                                                                          \n",
       "1Password Travel Mode: Protect your data when c...                                           0.509209           \n",
       "94-year-old Lithium-Ion Battery Inventor Introd...                                           0.438548           \n",
       "?Startup? asks internship applicant to build th...                                           0.493852           \n",
       "?The moon blew up without warning and for no ap...                                           0.419300           \n",
       "A crashed advertisement reveals logs of a facia...                                           0.187485           \n",
       "\n",
       "story2                                              Why do many math books have so much detail and so little enlightenment? (2010)  \\\n",
       "story1                                                                                                                               \n",
       "1Password Travel Mode: Protect your data when c...                                           0.423268                                \n",
       "94-year-old Lithium-Ion Battery Inventor Introd...                                           0.188818                                \n",
       "?Startup? asks internship applicant to build th...                                           0.657745                                \n",
       "?The moon blew up without warning and for no ap...                                           0.528632                                \n",
       "A crashed advertisement reveals logs of a facia...                                           0.450068                                \n",
       "\n",
       "story2                                              YC will hold interviews in Vancouver for founders who can?t get US visas  \n",
       "story1                                                                                                                        \n",
       "1Password Travel Mode: Protect your data when c...                                           0.533180                         \n",
       "94-year-old Lithium-Ion Battery Inventor Introd...                                           0.367617                         \n",
       "?Startup? asks internship applicant to build th...                                           0.499230                         \n",
       "?The moon blew up without warning and for no ap...                                           0.269890                         \n",
       "A crashed advertisement reveals logs of a facia...                                           0.394573                         \n",
       "\n",
       "[5 rows x 100 columns]"
      ]
     },
     "execution_count": 18,
     "metadata": {},
     "output_type": "execute_result"
    }
   ],
   "source": [
    "similarity_matrix.head()"
   ]
  },
  {
   "cell_type": "code",
   "execution_count": 25,
   "metadata": {},
   "outputs": [],
   "source": [
    "test = similarity_matrix.nlargest(3, '94-year-old Lithium-Ion Battery Inventor Introduces Solid State Battery')"
   ]
  },
  {
   "cell_type": "code",
   "execution_count": 27,
   "metadata": {},
   "outputs": [
    {
     "data": {
      "text/plain": [
       "(3, 100)"
      ]
     },
     "execution_count": 27,
     "metadata": {},
     "output_type": "execute_result"
    }
   ],
   "source": [
    "test.shape"
   ]
  },
  {
   "cell_type": "code",
   "execution_count": 29,
   "metadata": {},
   "outputs": [
    {
     "data": {
      "text/plain": [
       "story1\n",
       "94-year-old Lithium-Ion Battery Inventor Introduces Solid State Battery       1.000000\n",
       "DeepMind and Blizzard Open StarCraft II as an AI Research Environment         0.883313\n",
       "Mastering Chess and Shogi by Self-Play with General Reinforcement Learning    0.845477\n",
       "Name: 94-year-old Lithium-Ion Battery Inventor Introduces Solid State Battery, dtype: float64"
      ]
     },
     "execution_count": 29,
     "metadata": {},
     "output_type": "execute_result"
    }
   ],
   "source": [
    "test['94-year-old Lithium-Ion Battery Inventor Introduces Solid State Battery']"
   ]
  },
  {
   "cell_type": "markdown",
   "metadata": {
    "collapsed": true
   },
   "source": [
    "## (40%) Model - Matrix Completion by Alternating Least Square (ALS)\n",
    "\n",
    "Since in practical, customers may refuse to rate some items, study following materials. \n",
    "\n",
    "For a better and visual understanding of Matrix Factorization Techniques, read the following links\n",
    "- The original paper on [Collaborative Filtering for Implicit Feedback Datasets](http://yifanhu.net/PUB/cf.pdf)\n",
    "- [Finding Similar Music using Matrix Factorization](http://www.benfrederickson.com/matrix-factorization/) by Ben Frederickson\n",
    "- [Intro to Implicit Matrix Factorization: Classic ALS with Sketchfab Models](http://blog.ethanrosenthal.com/2016/10/19/implicit-mf-part-1/)\n",
    "\n",
    "We will apply ALS method to fill those missing values (put as 0) for following matrix, a rating matrix for six customers (rows number, say 1,2,3,4,5,6) to seven items (columns number, say A,B,C,D,E,F,G):\n",
    "\n",
    "R = np.array([[5, 0, 5, 0, 0, 1, 2], [0, 4, 0, 0, 2, 2, 1], [1, 0, 0, 1, 0, 1, 0], [0, 0, 1, 0, 1, 1, 0], [0, 2, 1, 0, 0, 1, 0], [0, 0, 3, 0, 1, 2, 0]])\n",
    "\n",
    "**Decomposition of the rating matrix**  \n",
    "R -> m users, n items  \n",
    "Row in P -> user's affinity to the features (m users, f latent factors/features)  \n",
    "Row in Q -> item's relation to the features (n items, f latent factors/features)  \n",
    "\n",
    "- P indicates how much user likes f latent factors  \n",
    "- Q indicates how much one item obtains f latent factors\n",
    "- The dot product indicates how much user likes item  \n",
    "- The decomposition automatically ranks features by their impact on the ratings\n",
    "- Features may not be intuitive though !\n",
    "- Model has hyperparameters (regularization, learning rate)\n",
    "\n",
    "Your task is to write a function using iterative method, e.g., stochastic gradient descent, to factorize\n",
    "matrix as P with dimension (6 x K) and Q with dimension (K x 7), where K is the number of latent features. \n",
    "After you get two factorized matrix P and Q, try to multiply them back, could you recommend the top three items of second customers based on this new rating matrix rating scores (0 value cells will have rating scores now). \n"
   ]
  },
  {
   "cell_type": "markdown",
   "metadata": {},
   "source": [
    "#### Solutions"
   ]
  },
  {
   "cell_type": "code",
   "execution_count": null,
   "metadata": {},
   "outputs": [],
   "source": []
  },
  {
   "cell_type": "code",
   "execution_count": 2,
   "metadata": {},
   "outputs": [],
   "source": [
    "import numpy as np\n",
    "np.set_printoptions(precision=2)"
   ]
  },
  {
   "cell_type": "code",
   "execution_count": 3,
   "metadata": {},
   "outputs": [],
   "source": [
    "\"\"\"\n",
    "@INPUT:\n",
    "    R     : a matrix to be factorized, dimension N x M\n",
    "    P     : an initial matrix of dimension N x K\n",
    "    Q     : an initial matrix of dimension M x K\n",
    "    K     : the number of latent features\n",
    "    steps : the maximum number of steps to perform the optimisation\n",
    "    alpha : the learning rate\n",
    "    beta  : the regularization parameter\n",
    "@OUTPUT:\n",
    "    the final matrices P and Q\n",
    "\"\"\"\n",
    "\n",
    "def als_matrix_factorization(R, K=2, steps=5000, alpha=0.0002, beta=0.02):\n",
    "    N = len(R)\n",
    "    M = len(R[0])\n",
    "    P = np.random.rand(N,K)\n",
    "    Q = np.random.rand(M,K)\n",
    "    Q = Q.T\n",
    "    \n",
    "    for step in range(steps):\n",
    "        for i in range(len(R)):\n",
    "            for j in range(len(R[i])):\n",
    "                if R[i][j] > 0:\n",
    "                    eij = R[i][j] - np.dot(P[i,:],Q[:,j])\n",
    "                    for k in range(K):\n",
    "                        P[i][k] = P[i][k] + alpha * (2 * eij * Q[k][j] - beta * P[i][k])\n",
    "                        Q[k][j] = Q[k][j] + alpha * (2 * eij * P[i][k] - beta * Q[k][j])\n",
    "        eR = np.dot(P,Q)\n",
    "        e = 0\n",
    "        for i in range(len(R)):\n",
    "            for j in range(len(R[i])):\n",
    "                if R[i][j] > 0:\n",
    "                    e = e + pow(R[i][j] - np.dot(P[i,:],Q[:,j]), 2)\n",
    "                    for k in range(K):\n",
    "                        e = e + (beta/2) * ( pow(P[i][k],2) + pow(Q[k][j],2) )\n",
    "        if e < 0.001:\n",
    "            break\n",
    "    return P, Q.T"
   ]
  },
  {
   "cell_type": "code",
   "execution_count": 4,
   "metadata": {},
   "outputs": [],
   "source": [
    "R = np.array([[5, 0, 5, 0, 0, 1, 2], \n",
    "              [0, 4, 0, 0, 2, 2, 1], \n",
    "              [1, 0, 0, 1, 0, 1, 0], \n",
    "              [0, 0, 1, 0, 1, 1, 0],\n",
    "              [0, 2, 1, 0, 0, 1, 0],\n",
    "              [0, 0, 3, 0, 1, 2, 0]])"
   ]
  },
  {
   "cell_type": "code",
   "execution_count": 9,
   "metadata": {},
   "outputs": [],
   "source": [
    "# Run ALS\n",
    "nP, nQ = als_matrix_factorization(R, K=2)"
   ]
  },
  {
   "cell_type": "code",
   "execution_count": 10,
   "metadata": {},
   "outputs": [
    {
     "data": {
      "text/plain": [
       "array([[4.95, 5.19, 4.85, 2.88, 2.89, 1.29, 1.98],\n",
       "       [3.23, 4.09, 3.63, 1.88, 1.85, 1.92, 1.04],\n",
       "       [1.26, 1.55, 1.39, 0.73, 0.72, 0.68, 0.42],\n",
       "       [1.13, 1.47, 1.3 , 0.66, 0.65, 0.73, 0.35],\n",
       "       [1.29, 1.66, 1.47, 0.75, 0.74, 0.81, 0.41],\n",
       "       [2.29, 3.3 , 2.84, 1.33, 1.29, 1.97, 0.6 ]])"
      ]
     },
     "execution_count": 10,
     "metadata": {},
     "output_type": "execute_result"
    }
   ],
   "source": [
    "nP.dot(nQ.T)"
   ]
  },
  {
   "cell_type": "code",
   "execution_count": 7,
   "metadata": {},
   "outputs": [
    {
     "data": {
      "text/plain": [
       "array([[0.73, 1.8 ],\n",
       "       [2.04, 0.74],\n",
       "       [0.99, 1.71],\n",
       "       [0.8 , 0.51],\n",
       "       [0.95, 0.09],\n",
       "       [1.18, 0.05],\n",
       "       [0.36, 0.69]])"
      ]
     },
     "execution_count": 7,
     "metadata": {},
     "output_type": "execute_result"
    }
   ],
   "source": [
    "nQ"
   ]
  },
  {
   "cell_type": "code",
   "execution_count": 8,
   "metadata": {},
   "outputs": [
    {
     "data": {
      "text/plain": [
       "array([[0.79, 2.45],\n",
       "       [1.78, 0.53],\n",
       "       [0.86, 0.24],\n",
       "       [0.82, 0.16],\n",
       "       [0.92, 0.07],\n",
       "       [1.4 , 0.91]])"
      ]
     },
     "execution_count": 8,
     "metadata": {},
     "output_type": "execute_result"
    }
   ],
   "source": [
    "nP"
   ]
  },
  {
   "cell_type": "markdown",
   "metadata": {},
   "source": [
    "### For the second customer, the top 3 items order based on score from high to low is \n",
    "### B, C, A"
   ]
  },
  {
   "cell_type": "markdown",
   "metadata": {},
   "source": [
    "## (20%) Learning to Rank\n",
    "\n",
    "**Bayesian Personalized Ranking pairwise loss:**\n",
    "\n",
    "Maximises the prediction difference between a positive example and a randomly chosen negative example. Useful when only positive interactions are present and optimising ROC AUC is desired.\n",
    "\n",
    "More details can be found for BPR at \n",
    "\n",
    "https://www.coursera.org/lecture/matrix-factorization/personalized-ranking-with-daniel-kluver-s3XJo\n",
    "\n",
    "https://www.slideshare.net/zenogantner/bayesian-personalized-ranking-for-nonuniformly-sampled-items\n",
    "\n",
    "**Weighted Approximate-Rank Pairwise loss**:  \n",
    "Maximises the rank of positive examples by repeatedly sampling negative examples until rank violating one is found. Useful when only positive interactions are present and optimising the top of the recommendation list (precision@k) is desired.WARP deals with (user, positive item, negative item) triplets. \n",
    "\n",
    "See following for WARP\n",
    "\n",
    "https://medium.com/@gabrieltseng/intro-to-warp-loss-automatic-differentiation-and-pytorch-b6aa5083187a\n",
    "\n",
    "\n",
    "This procedure yields roughly the following algorithm:\n",
    "\n",
    "- For a given (user, positive item pair), sample a negative item at random from all the remaining items. Compute predictions for both items; if the negative item’s prediction exceeds that of the positive item plus a margin, perform a gradient update to rank the positive item higher and the negative item lower. If there is no rank violation, continue sampling negative items until a violation is found.\n",
    "\n",
    "- If you found a violating negative example at the first try, make a large gradient update: this indicates that a lot of negative items are ranked higher than positives items given the current state of the model, and the model must be updated by a large amount. If it took a lot of sampling to find a violating example, perform a small update: the model is likely close to the optimum and should be updated at a low rate.\n",
    "\n",
    "You can install lightfm package and use its fetch_movielens data sets."
   ]
  },
  {
   "cell_type": "code",
   "execution_count": 2,
   "metadata": {},
   "outputs": [],
   "source": [
    "#Get the data\n",
    "\n",
    "import numpy as np\n",
    "from lightfm.datasets import fetch_movielens\n",
    "from lightfm import LightFM\n",
    "from lightfm.evaluation import precision_at_k\n",
    "from lightfm.evaluation import auc_score"
   ]
  },
  {
   "cell_type": "markdown",
   "metadata": {},
   "source": [
    "**Movie lens dataset:**\n",
    "\n",
    "![](img/movielens.png)\n",
    "GroupLens Research has collected and made available rating data sets from the MovieLens web site (http://movielens.org). The data sets were collected over various periods of time, depending on the size of the set.\n",
    "\n",
    "http://grouplens.org/datasets/movielens/"
   ]
  },
  {
   "cell_type": "markdown",
   "metadata": {},
   "source": [
    "**Fetch movielens 100k dataset**\n",
    "\n",
    "The dataset contains 100,000 interactions from 1000 users on 1700 movies, and is exhaustively described\n",
    "#in its README http://files.grouplens.org/datasets/movielens/ml-100k-README.txt\n",
    "\n",
    "This data set consists of:\n",
    "- 100,000 ratings (1-5) from 943 users on 1682 movies. \n",
    "- Each user has rated at least 20 movies. \n",
    "- Simple demographic info for the users (age, gender, occupation, zip)\n",
    "\n",
    "### Questions 1: \n",
    "\n",
    "Using lightfm package builtin evaluation methods, e.g., precision_at_k and auc_score\n",
    "to evaluate recommendation performance from Bayesian Personalized Ranking pairwise loss, and Weighted Approximate-Rank Pairwise loss.  \n",
    "\n",
    "### Questions 2: \n",
    "\n",
    "Can you build a recommendation system based on Weighted Approximate-Rank Pairwise loss and perform recommendation for used with id [3, 25, 450]? You should show both known preference of used and predictions results (recommendatdions).\n",
    "        "
   ]
  },
  {
   "cell_type": "markdown",
   "metadata": {},
   "source": [
    "#### Solutions"
   ]
  },
  {
   "cell_type": "code",
   "execution_count": null,
   "metadata": {},
   "outputs": [],
   "source": []
  },
  {
   "cell_type": "code",
   "execution_count": 4,
   "metadata": {
    "collapsed": true
   },
   "outputs": [],
   "source": [
    "movielens = fetch_movielens() \n"
   ]
  },
  {
   "cell_type": "code",
   "execution_count": 5,
   "metadata": {
    "collapsed": true
   },
   "outputs": [
    {
     "name": "stdout",
     "output_type": "stream",
     "text": [
      "item_labels ['Toy Story (1995)' 'GoldenEye (1995)' 'Four Rooms (1995)' ...,\n",
      " 'Sliding Doors (1998)' 'You So Crazy (1994)'\n",
      " 'Scream of Stone (Schrei aus Stein) (1991)']\n",
      "test   (0, 19)\t4\n",
      "  (0, 32)\t4\n",
      "  (0, 60)\t4\n",
      "  (0, 116)\t3\n",
      "  (0, 154)\t2\n",
      "  (0, 159)\t4\n",
      "  (0, 170)\t5\n",
      "  (0, 188)\t3\n",
      "  (0, 201)\t5\n",
      "  (0, 264)\t4\n",
      "  (1, 12)\t4\n",
      "  (1, 49)\t5\n",
      "  (1, 250)\t5\n",
      "  (1, 279)\t3\n",
      "  (1, 280)\t3\n",
      "  (1, 289)\t3\n",
      "  (1, 291)\t4\n",
      "  (1, 296)\t4\n",
      "  (1, 311)\t3\n",
      "  (1, 313)\t1\n",
      "  (2, 244)\t1\n",
      "  (2, 293)\t2\n",
      "  (2, 322)\t2\n",
      "  (2, 327)\t5\n",
      "  (2, 330)\t4\n",
      "  :\t:\n",
      "  (940, 180)\t5\n",
      "  (940, 256)\t4\n",
      "  (940, 257)\t4\n",
      "  (940, 474)\t4\n",
      "  (940, 992)\t4\n",
      "  (941, 116)\t4\n",
      "  (941, 199)\t4\n",
      "  (941, 260)\t4\n",
      "  (941, 322)\t3\n",
      "  (941, 422)\t5\n",
      "  (941, 426)\t5\n",
      "  (941, 486)\t4\n",
      "  (941, 583)\t4\n",
      "  (941, 603)\t4\n",
      "  (941, 614)\t3\n",
      "  (942, 10)\t4\n",
      "  (942, 57)\t4\n",
      "  (942, 110)\t4\n",
      "  (942, 185)\t5\n",
      "  (942, 214)\t5\n",
      "  (942, 231)\t4\n",
      "  (942, 355)\t4\n",
      "  (942, 569)\t1\n",
      "  (942, 807)\t4\n",
      "  (942, 1066)\t2\n",
      "train   (0, 0)\t5\n",
      "  (0, 1)\t3\n",
      "  (0, 2)\t4\n",
      "  (0, 3)\t3\n",
      "  (0, 4)\t3\n",
      "  (0, 5)\t5\n",
      "  (0, 6)\t4\n",
      "  (0, 7)\t1\n",
      "  (0, 8)\t5\n",
      "  (0, 9)\t3\n",
      "  (0, 10)\t2\n",
      "  (0, 11)\t5\n",
      "  (0, 12)\t5\n",
      "  (0, 13)\t5\n",
      "  (0, 14)\t5\n",
      "  (0, 15)\t5\n",
      "  (0, 16)\t3\n",
      "  (0, 17)\t4\n",
      "  (0, 18)\t5\n",
      "  (0, 20)\t1\n",
      "  (0, 21)\t4\n",
      "  (0, 22)\t4\n",
      "  (0, 23)\t3\n",
      "  (0, 24)\t4\n",
      "  (0, 25)\t3\n",
      "  :\t:\n",
      "  (942, 723)\t1\n",
      "  (942, 731)\t4\n",
      "  (942, 738)\t4\n",
      "  (942, 755)\t2\n",
      "  (942, 762)\t4\n",
      "  (942, 764)\t3\n",
      "  (942, 784)\t2\n",
      "  (942, 793)\t3\n",
      "  (942, 795)\t3\n",
      "  (942, 815)\t4\n",
      "  (942, 823)\t4\n",
      "  (942, 824)\t3\n",
      "  (942, 830)\t2\n",
      "  (942, 839)\t4\n",
      "  (942, 927)\t5\n",
      "  (942, 940)\t1\n",
      "  (942, 942)\t5\n",
      "  (942, 1010)\t2\n",
      "  (942, 1027)\t2\n",
      "  (942, 1043)\t3\n",
      "  (942, 1046)\t2\n",
      "  (942, 1073)\t4\n",
      "  (942, 1187)\t3\n",
      "  (942, 1227)\t3\n",
      "  (942, 1329)\t3\n",
      "item_feature_labels ['Toy Story (1995)' 'GoldenEye (1995)' 'Four Rooms (1995)' ...,\n",
      " 'Sliding Doors (1998)' 'You So Crazy (1994)'\n",
      " 'Scream of Stone (Schrei aus Stein) (1991)']\n",
      "item_features   (0, 0)\t1.0\n",
      "  (1, 1)\t1.0\n",
      "  (2, 2)\t1.0\n",
      "  (3, 3)\t1.0\n",
      "  (4, 4)\t1.0\n",
      "  (5, 5)\t1.0\n",
      "  (6, 6)\t1.0\n",
      "  (7, 7)\t1.0\n",
      "  (8, 8)\t1.0\n",
      "  (9, 9)\t1.0\n",
      "  (10, 10)\t1.0\n",
      "  (11, 11)\t1.0\n",
      "  (12, 12)\t1.0\n",
      "  (13, 13)\t1.0\n",
      "  (14, 14)\t1.0\n",
      "  (15, 15)\t1.0\n",
      "  (16, 16)\t1.0\n",
      "  (17, 17)\t1.0\n",
      "  (18, 18)\t1.0\n",
      "  (19, 19)\t1.0\n",
      "  (20, 20)\t1.0\n",
      "  (21, 21)\t1.0\n",
      "  (22, 22)\t1.0\n",
      "  (23, 23)\t1.0\n",
      "  (24, 24)\t1.0\n",
      "  :\t:\n",
      "  (1657, 1657)\t1.0\n",
      "  (1658, 1658)\t1.0\n",
      "  (1659, 1659)\t1.0\n",
      "  (1660, 1660)\t1.0\n",
      "  (1661, 1661)\t1.0\n",
      "  (1662, 1662)\t1.0\n",
      "  (1663, 1663)\t1.0\n",
      "  (1664, 1664)\t1.0\n",
      "  (1665, 1665)\t1.0\n",
      "  (1666, 1666)\t1.0\n",
      "  (1667, 1667)\t1.0\n",
      "  (1668, 1668)\t1.0\n",
      "  (1669, 1669)\t1.0\n",
      "  (1670, 1670)\t1.0\n",
      "  (1671, 1671)\t1.0\n",
      "  (1672, 1672)\t1.0\n",
      "  (1673, 1673)\t1.0\n",
      "  (1674, 1674)\t1.0\n",
      "  (1675, 1675)\t1.0\n",
      "  (1676, 1676)\t1.0\n",
      "  (1677, 1677)\t1.0\n",
      "  (1678, 1678)\t1.0\n",
      "  (1679, 1679)\t1.0\n",
      "  (1680, 1680)\t1.0\n",
      "  (1681, 1681)\t1.0\n"
     ]
    }
   ],
   "source": [
    "#print movie lens \n",
    "for key, value in movielens.items():\n",
    "    print(key, value)"
   ]
  },
  {
   "cell_type": "code",
   "execution_count": 6,
   "metadata": {
    "collapsed": true
   },
   "outputs": [],
   "source": [
    "train = movielens['train']\n",
    "test = movielens['test']"
   ]
  },
  {
   "cell_type": "markdown",
   "metadata": {},
   "source": [
    "#### BPR Model\n",
    "\n",
    "We’ll use two metrics of accuracy: precision@k and ROC AUC\n",
    "\n",
    "Both are ranking metrics: to compute them, we’ll be constructing recommendation lists for all of our users, and checking the ranking of known positive movies. \n",
    "\n",
    "For precision at k we’ll be looking at whether they are within the first k results on the list; for AUC, we’ll be calculating the probability that any known positive is higher on the list than a random negative example."
   ]
  },
  {
   "cell_type": "code",
   "execution_count": 8,
   "metadata": {},
   "outputs": [],
   "source": [
    "model = LightFM(learning_rate=0.05, loss='bpr')"
   ]
  },
  {
   "cell_type": "code",
   "execution_count": 9,
   "metadata": {},
   "outputs": [
    {
     "data": {
      "text/plain": [
       "<lightfm.lightfm.LightFM at 0x10a370278>"
      ]
     },
     "execution_count": 9,
     "metadata": {},
     "output_type": "execute_result"
    }
   ],
   "source": [
    "model.fit(train, epochs=10)"
   ]
  },
  {
   "cell_type": "code",
   "execution_count": 10,
   "metadata": {
    "collapsed": true
   },
   "outputs": [],
   "source": [
    "train_precision = precision_at_k(model, train, k=10).mean()\n",
    "test_precision = precision_at_k(model, test, k=10).mean()"
   ]
  },
  {
   "cell_type": "code",
   "execution_count": 11,
   "metadata": {
    "collapsed": true
   },
   "outputs": [],
   "source": [
    "train_auc = auc_score(model, train).mean()\n",
    "test_auc = auc_score(model, test).mean()"
   ]
  },
  {
   "cell_type": "code",
   "execution_count": 12,
   "metadata": {},
   "outputs": [
    {
     "name": "stdout",
     "output_type": "stream",
     "text": [
      "Precision: train 0.42, test 0.06.\n",
      "AUC: train 0.84, test 0.82.\n"
     ]
    }
   ],
   "source": [
    "print('Precision: train %.2f, test %.2f.' % (train_precision, test_precision))\n",
    "print('AUC: train %.2f, test %.2f.' % (train_auc, test_auc))\n"
   ]
  },
  {
   "cell_type": "markdown",
   "metadata": {},
   "source": [
    "#### WARP Model"
   ]
  },
  {
   "cell_type": "code",
   "execution_count": 13,
   "metadata": {
    "collapsed": true
   },
   "outputs": [],
   "source": [
    "model = LightFM(learning_rate=0.05, loss='warp')"
   ]
  },
  {
   "cell_type": "code",
   "execution_count": 14,
   "metadata": {},
   "outputs": [
    {
     "data": {
      "text/plain": [
       "<lightfm.lightfm.LightFM at 0x10a370518>"
      ]
     },
     "execution_count": 14,
     "metadata": {},
     "output_type": "execute_result"
    }
   ],
   "source": [
    "model.fit_partial(train, epochs=10)"
   ]
  },
  {
   "cell_type": "code",
   "execution_count": 15,
   "metadata": {
    "collapsed": true
   },
   "outputs": [],
   "source": [
    "train_precision = precision_at_k(model, train, k=10).mean()\n",
    "test_precision = precision_at_k(model, test, k=10).mean()"
   ]
  },
  {
   "cell_type": "code",
   "execution_count": 16,
   "metadata": {
    "collapsed": true
   },
   "outputs": [],
   "source": [
    "train_auc = auc_score(model, train).mean()\n",
    "test_auc = auc_score(model, test).mean()"
   ]
  },
  {
   "cell_type": "code",
   "execution_count": 17,
   "metadata": {},
   "outputs": [
    {
     "name": "stdout",
     "output_type": "stream",
     "text": [
      "Precision: train 0.60, test 0.11.\n",
      "AUC: train 0.93, test 0.90.\n"
     ]
    }
   ],
   "source": [
    "print('Precision: train %.2f, test %.2f.' % (train_precision, test_precision))\n",
    "print('AUC: train %.2f, test %.2f.' % (train_auc, test_auc))"
   ]
  },
  {
   "cell_type": "markdown",
   "metadata": {},
   "source": [
    "### Prototype Rec Sys"
   ]
  },
  {
   "cell_type": "code",
   "execution_count": 18,
   "metadata": {
    "collapsed": true
   },
   "outputs": [],
   "source": [
    "#Let's quickly prototype a movie recommendation system"
   ]
  },
  {
   "cell_type": "code",
   "execution_count": 19,
   "metadata": {
    "collapsed": true
   },
   "outputs": [],
   "source": [
    "import numpy as np\n",
    "from lightfm import LightFM\n",
    "from lightfm.datasets import fetch_movielens\n",
    "from lightfm.evaluation import precision_at_k"
   ]
  },
  {
   "cell_type": "code",
   "execution_count": 20,
   "metadata": {},
   "outputs": [
    {
     "name": "stdout",
     "output_type": "stream",
     "text": [
      "<943x1682 sparse matrix of type '<class 'numpy.int32'>'\n",
      "\twith 19048 stored elements in COOrdinate format>\n",
      "<943x1682 sparse matrix of type '<class 'numpy.int32'>'\n",
      "\twith 2153 stored elements in COOrdinate format>\n"
     ]
    }
   ],
   "source": [
    "data = fetch_movielens(min_rating=5.0)\n",
    "print(repr(data['train']))\n",
    "print(repr(data['test']))"
   ]
  },
  {
   "cell_type": "code",
   "execution_count": 21,
   "metadata": {},
   "outputs": [
    {
     "name": "stdout",
     "output_type": "stream",
     "text": [
      "CPU times: user 627 ms, sys: 7.69 ms, total: 635 ms\n",
      "Wall time: 751 ms\n"
     ]
    },
    {
     "data": {
      "text/plain": [
       "<lightfm.lightfm.LightFM at 0x10a370400>"
      ]
     },
     "execution_count": 21,
     "metadata": {},
     "output_type": "execute_result"
    }
   ],
   "source": [
    "model = LightFM(loss='warp')\n",
    "%time model.fit(data['train'], epochs=30, num_threads=2)"
   ]
  },
  {
   "cell_type": "code",
   "execution_count": 22,
   "metadata": {},
   "outputs": [
    {
     "name": "stdout",
     "output_type": "stream",
     "text": [
      "Train precision: 0.40\n",
      "Test precision: 0.05\n"
     ]
    }
   ],
   "source": [
    "print(\"Train precision: %.2f\" % precision_at_k(model, data['train'], k=5).mean())\n",
    "print(\"Test precision: %.2f\" % precision_at_k(model, data['test'], k=5).mean())"
   ]
  },
  {
   "cell_type": "markdown",
   "metadata": {},
   "source": [
    "Let's sample a couple of users and get their recommendations. \n",
    "\n",
    "To make predictions for given user, we pass the id of that user and the ids of all products we want predictions for into the predict method."
   ]
  },
  {
   "cell_type": "code",
   "execution_count": 23,
   "metadata": {
    "collapsed": true
   },
   "outputs": [],
   "source": [
    "def sample_recommendation(model, data, user_ids):\n",
    "    \n",
    "    n_users, n_items = data['train'].shape\n",
    "    for user_id in user_ids:\n",
    "        known_positives = data['item_labels'][data['train'].tocsr()[user_id].indices]\n",
    "        \n",
    "        scores = model.predict(user_id, np.arange(n_items))\n",
    "        top_items = data['item_labels'][np.argsort(-scores)]\n",
    "        \n",
    "        print(\"User %s\" % user_id)\n",
    "        print(\"     Known positives:\")\n",
    "        \n",
    "        for x in known_positives[:3]:\n",
    "            print(\"        %s\" % x)\n",
    "\n",
    "        print(\"     Recommended:\")\n",
    "        \n",
    "        for x in top_items[:3]:\n",
    "            print(\"        %s\" % x)\n",
    "        "
   ]
  },
  {
   "cell_type": "code",
   "execution_count": 24,
   "metadata": {},
   "outputs": [
    {
     "name": "stdout",
     "output_type": "stream",
     "text": [
      "User 3\n",
      "     Known positives:\n",
      "        Contact (1997)\n",
      "        Air Force One (1997)\n",
      "        In & Out (1997)\n",
      "     Recommended:\n",
      "        Kiss the Girls (1997)\n",
      "        G.I. Jane (1997)\n",
      "        Lost Highway (1997)\n",
      "User 25\n",
      "     Known positives:\n",
      "        Fargo (1996)\n",
      "        Godfather, The (1972)\n",
      "        L.A. Confidential (1997)\n",
      "     Recommended:\n",
      "        Fargo (1996)\n",
      "        L.A. Confidential (1997)\n",
      "        Star Wars (1977)\n",
      "User 450\n",
      "     Known positives:\n",
      "        Event Horizon (1997)\n",
      "        Scream (1996)\n",
      "        Conspiracy Theory (1997)\n",
      "     Recommended:\n",
      "        Scream (1996)\n",
      "        Game, The (1997)\n",
      "        Air Force One (1997)\n"
     ]
    }
   ],
   "source": [
    "sample_recommendation(model, data, [3, 25, 450]) "
   ]
  },
  {
   "cell_type": "markdown",
   "metadata": {},
   "source": [
    "## (10%) Can you implement Discounted cumulative gain (DCG) and Normalized DCG. Then use example of ranking list to demonstrate your implementation."
   ]
  },
  {
   "cell_type": "markdown",
   "metadata": {},
   "source": [
    "#### Solutions"
   ]
  },
  {
   "cell_type": "code",
   "execution_count": null,
   "metadata": {},
   "outputs": [],
   "source": []
  },
  {
   "cell_type": "code",
   "execution_count": 43,
   "metadata": {},
   "outputs": [],
   "source": [
    "import math\n",
    "import numpy as np\n",
    "\n",
    "\n",
    "def find_dcg(element_list):\n",
    "    \"\"\"\n",
    "    Discounted Cumulative Gain (DCG)\n",
    "    The definition of DCG can be found in this paper:\n",
    "        Azzah Al-Maskari, Mark Sanderson, and Paul Clough. 2007.\n",
    "        \"The relationship between IR effectiveness measures and user satisfaction.\"\n",
    "    Parameters:\n",
    "        element_list - a list of ranks Ex: [5,4,2,2,1]\n",
    "    Returns:\n",
    "        score\n",
    "    \"\"\"\n",
    "    score = 0.0\n",
    "    for order, rank in enumerate(element_list):\n",
    "        score += float(rank)/np.log2((order+2))\n",
    "    return score\n",
    "\n",
    "\n",
    "def find_ndcg(reference, hypothesis):\n",
    "    \"\"\"\n",
    "    Normalized Discounted Cumulative Gain (nDCG)\n",
    "    Normalized version of DCG:\n",
    "        nDCG = DCG(hypothesis)/DCG(reference)\n",
    "    Parameters:\n",
    "        reference   - a gold standard (perfect) ordering Ex: [5,4,3,2,1]\n",
    "        hypothesis  - a proposed ordering Ex: [5,2,2,3,1]\n",
    "    Returns:\n",
    "        ndcg_score  - normalized score\n",
    "    \"\"\"\n",
    "\n",
    "    return find_dcg(hypothesis)/find_dcg(reference)\n"
   ]
  },
  {
   "cell_type": "code",
   "execution_count": 44,
   "metadata": {},
   "outputs": [
    {
     "name": "stdout",
     "output_type": "stream",
     "text": [
      "6.861126688593502\n",
      "8.740262365546284\n"
     ]
    }
   ],
   "source": [
    "print (find_dcg([3,2,3,0,1,2]))\n",
    "print (find_dcg([3,3,3,2,2,2]))"
   ]
  },
  {
   "cell_type": "code",
   "execution_count": 45,
   "metadata": {},
   "outputs": [
    {
     "name": "stdout",
     "output_type": "stream",
     "text": [
      "0.785002371969948\n"
     ]
    }
   ],
   "source": [
    "reference = [3,3,3,2,2,2] # Ideal case\n",
    "hypothesis = [3,2,3,0,1,2]\n",
    "print(find_ndcg(reference, hypothesis))"
   ]
  },
  {
   "cell_type": "code",
   "execution_count": null,
   "metadata": {},
   "outputs": [],
   "source": []
  }
 ],
 "metadata": {
  "anaconda-cloud": {},
  "kernelspec": {
   "display_name": "Python 3",
   "language": "python",
   "name": "python3"
  },
  "language_info": {
   "codemirror_mode": {
    "name": "ipython",
    "version": 3
   },
   "file_extension": ".py",
   "mimetype": "text/x-python",
   "name": "python",
   "nbconvert_exporter": "python",
   "pygments_lexer": "ipython3",
   "version": "3.6.5"
  }
 },
 "nbformat": 4,
 "nbformat_minor": 2
}

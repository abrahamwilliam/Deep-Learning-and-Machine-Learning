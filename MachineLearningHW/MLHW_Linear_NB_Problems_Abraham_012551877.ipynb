{
 "cells": [
  {
   "cell_type": "markdown",
   "metadata": {},
   "source": [
    "# Due June/20/2018 11:59:59 PM, PST."
   ]
  },
  {
   "cell_type": "markdown",
   "metadata": {},
   "source": [
    "## Probability Review (10%)\n",
    "In a certain day care class, 30% of the children have grey eyes, 50% of them have blue and the other 20%'s eyes are in other colors. One day they play a game together. In the first run, 65% of the grey eye ones, 82% of the blue eyed ones and 50% of the children with other eye color were selected. Now, if a child is selected randomly from the class, and we know that he/she was not in the first game, what is the probability that the child has blue eyes?"
   ]
  },
  {
   "cell_type": "code",
   "execution_count": null,
   "metadata": {},
   "outputs": [],
   "source": [
    " 30.50%"
   ]
  },
  {
   "cell_type": "markdown",
   "metadata": {},
   "source": [
    "## Linear Algebra Review (10%)\n",
    "(1) What is Gram-Schmidt procedure ? \n",
    "<br>\n",
    "(2) Do Gram-Schmidt procedure for the vectors x1 = (1, 1 ,0), x2 = (1, 0, 1), x3 = (0, 1, 1) in $R^3$."
   ]
  },
  {
   "cell_type": "code",
   "execution_count": 35,
   "metadata": {},
   "outputs": [
    {
     "name": "stdout",
     "output_type": "stream",
     "text": [
      "e1: [0.70710678 0.70710678 0.        ]\n",
      "e2: [ 0.40824829 -0.40824829  0.81649658]\n",
      "e3: [-0.57735027  0.57735027  0.57735027]\n"
     ]
    }
   ],
   "source": [
    "1.the Gram–Schmidt process is a method for orthonormalising a set of vectors in an inner product space, most commonly the Euclidean space Rn equipped with the standard inner product\n",
    "\n",
    "\n",
    "import numpy as np\n",
    "import math\n",
    "\n",
    "x1 = np.array([1,1,0])\n",
    "x2 = np.array([1,0,1])\n",
    "x3 = np.array([0,1,1])\n",
    "\n",
    "\n",
    "v1 = x1\n",
    "\n",
    "v1_norm = np.linalg.norm(v1)\n",
    "\n",
    "e1 = v1 / math.sqrt((np.dot(v1,v1)))\n",
    "\n",
    "x2_v1 = np.dot(x2,v1)\n",
    "\n",
    "v2 = x2 - (x2_v1 / (v1_norm ** 2))*v1\n",
    "\n",
    "e2 = v2 / math.sqrt((np.dot(v2,v2)))\n",
    "\n",
    "\n",
    "x3_v1 = np.dot(x3, v1)\n",
    "\n",
    "x3_v2 = np.dot(x3, v2)\n",
    "\n",
    "v2_norm = np.linalg.norm(v2)\n",
    "\n",
    "v3 = x3 - (x3_v1/(v1_norm**2))*v1 - (x3_v2/(v2_norm**2))*v2\n",
    "\n",
    "e3 = v3 / math.sqrt((np.dot(v3,v3)))\n",
    "\n",
    "print(\"e1: {}\".format(e1))\n",
    "print(\"e2: {}\".format(e2))\n",
    "print(\"e3: {}\".format(e3))\n",
    "\n"
   ]
  },
  {
   "cell_type": "markdown",
   "metadata": {},
   "source": [
    "## Hessian for Logistic Regression (10%)\n",
    "Consider the average empirical loss  for logistic regression:\n",
    "\n",
    "$$J(\\theta) = \\frac{1}{m} \\sum_{i=1}^{m} \\log (1 + e^{-y_i \\theta^T x_i}) = - \\frac{1}{m} \\sum_{i=1}^{m} \\log (h_{\\theta}(y_i x_i)))$$\n",
    "\n",
    "where $h_{\\theta}(x) = g(\\theta^{T} x)$ and $g(z) = \\frac{1}{1 + e^{-z}}$. \n",
    "\n",
    "(1) Find the Hessian $H$ of $J(\\theta)$.\n",
    "<br>\n",
    "(2) Show that Hessian is non-negative definite.\n",
    "\n"
   ]
  },
  {
   "cell_type": "markdown",
   "metadata": {},
   "source": [
    "$Hessian of $\n",
    "$J(\\theta) = \\frac{1}{m} \\sum_{i=1}^{m} \\log(1+e^{(-y_i \\theta^T x_i)})$\n",
    "\n",
    "$\\frac{\\partial J(\\theta)}{\\partial \\theta_k} = \\frac{1}{m} \\sum_{i=1}^{m} \\frac{e^{-y^{(i)}\\theta^{i}x^{i}}}{1+e^{(-y_i \\theta^T x_i)}} (-y^{(i)}x_k^{(i)})$\n",
    "\n",
    "$\\frac{\\partial J(\\theta)}{\\partial \\theta_k} = \\frac{1}{m} \\sum_{i=1}^{m} \\frac{1}{1+e^{(-y_i \\theta^T x_i)}} (-y^{(i)}x_k^{(i)})$\n",
    "\n",
    "$\\frac{\\partial J(\\theta)}{\\partial \\theta_k} = -\\frac{1}{m} \\sum_{i=1}^{m} h_\\theta (-y^{(i)}x^{(i)})(y^{(i)}x_k^{(i)})$\n",
    "\n",
    "$\\frac{\\partial^{2} J(\\theta)}{\\partial \\theta_l\\partial \\theta_k} = -\\frac{1}{m} \\sum_{i=1}^{m} \\frac{\\partial}{\\partial \\theta_l}  h_\\theta  (-y^{(i)}x^{(i)})(y^{(i)}x_k^{(i)})$\n",
    "\n",
    "$\\frac{\\partial^{2} J(\\theta)}{\\partial \\theta_l\\partial \\theta_k} = -\\frac{1}{m} \\sum_{i=1}^{m} h_\\theta (-y^{(i)}x^{(i)}) (1- h_\\theta (-y^{(i)}x^{(i)})) (-y^{(i)}x_k^{(i)}) (-y^{(i)}x_l^{(i)})$\n",
    "\n",
    "$H_{kl}= -\\frac{1}{m} \\sum_{i=1}^{m} h_\\theta (x^{(i)}) (1- h_\\theta (x^{(i)})) x_l^{(i)}x_k^{(i)}$\n",
    "\n",
    "Hessian doesn't depend on the training parameters $y_i$ because $y^{i}$ belongs to {|1|} i.e + or - 1, so y*y is always 1 and $f(x) = h_\\theta$\n",
    "\n",
    "\n",
    "and so \n",
    "$H = \\frac{1}{m} \\sum_{i=1}^{m} h (x^{(i)}) (1- h(x^{(i)})) x^{(i)}x^{(i)T}$"
   ]
  },
  {
   "cell_type": "markdown",
   "metadata": {},
   "source": [
    "$A^THA$\n",
    "$= A^T (\\frac{1}{m} \\sum_{i=1}^{m} h (x^{(i)}) (1- h(x^{(i)})) x^{(i)}x^{(i)T})A$\n",
    "\n",
    "\n",
    "$= \\sum_{i=1}^{m} h (x^{(i)}) (1- h(x^{(i)})) A^{T}x^{(i)}x^{(i)T}A$\n",
    "\n",
    "$= \\sum_{i=1}^{m} h (x^{(i)}) (1- h(x^{(i)})) (A^{Tx^{(i)})^{2}$\n",
    "\n",
    "Since $(A^{T}x^{(i)})^{2} $ is always >= 0 , so Hessian is always positive."
   ]
  },
  {
   "cell_type": "markdown",
   "metadata": {},
   "source": [
    "### linear regression model using stochastic gradient (40%)\n",
    "\n",
    "In this problem, we will train a linear regression model using stochastic gradient descent on the\n",
    "Wine Quality dataset. The data provide to train is \"winequality-white.csv\". We will partition the problem into following three parts:\n",
    "\n",
    "<br>\n",
    "\n",
    "A. Making Predictions\n",
    "\n",
    "<br>\n",
    "\n",
    "B. Esimating Coefficients\n",
    "\n",
    "<br>\n",
    "\n",
    "C. Wine Quality Testing\n",
    "\n",
    "The Wine Quality Dataset involves predicting the quality of white wines on a scale given\n",
    "chemical measures of each wine. It is a multiclass classi\f",
    "cation problem, but could also be\n",
    "framed as a regression problem. The number of observations for each class is not balanced.\n",
    "There are 4,898 observations with 11 input variables and 1 output variable. The variable names\n",
    "are as follows:\n",
    "\n",
    "1. Fixed acidity.\n",
    "2. Volatile acidity.\n",
    "3. Citric acid.\n",
    "4. Residual sugar.\n",
    "5. Chlorides.\n",
    "6. Free sulfur dioxide.\n",
    "7. Total sulfur dioxide.\n",
    "8. Density.\n",
    "9. pH.\n",
    "10. Sulphates.\n",
    "11. Alcohol.\n",
    "12. Quality (score between 0 and 10).\n"
   ]
  },
  {
   "cell_type": "code",
   "execution_count": 2,
   "metadata": {},
   "outputs": [],
   "source": [
    "# Possible Python lib required to run this problem. \n",
    "from random import seed\n",
    "from random import randrange\n",
    "from csv import reader\n",
    "from math import sqrt"
   ]
  },
  {
   "cell_type": "markdown",
   "metadata": {},
   "source": [
    "### A. Making Prediction\n",
    "### Given dataset with 5 point, the first is input value, \n",
    "### and the second is the expected value\n",
    "\n",
    "dataset = [[1, 1], [2, 3], [4, 3], [3, 2], [5, 5], [6,6]]\n",
    "\n",
    "### Also given linear model coefficient as \n",
    "\n",
    "coef = [0.5, 0.8]\n",
    "\n",
    "### where the first component is b0 and the second component is b1 and \n",
    "### model is assumed as y = b0 + b1*x\n",
    "\n",
    "### Can you write a predict function to return predicted value?\n",
    "\n"
   ]
  },
  {
   "cell_type": "code",
   "execution_count": 27,
   "metadata": {},
   "outputs": [
    {
     "name": "stdout",
     "output_type": "stream",
     "text": [
      "Expected=1.000, Predicted=1.300\n",
      "Expected=3.000, Predicted=2.100\n",
      "Expected=3.000, Predicted=3.700\n",
      "Expected=2.000, Predicted=2.900\n",
      "Expected=5.000, Predicted=4.500\n",
      "Expected=6.000, Predicted=5.300\n"
     ]
    }
   ],
   "source": [
    "\n",
    "def predict(row, coefficients):\n",
    "\tyhat = coefficients[0]\n",
    "\tfor i in range(len(row)-1):\n",
    "\t\tyhat += coefficients[i + 1] * row[i]\n",
    "\treturn yhat\n",
    " \n",
    "dataset = [[1, 1], [2, 3], [4, 3], [3, 2], [5, 5], [6,6]]\n",
    "coef = [0.5, 0.8]\n",
    "for row in dataset:\n",
    "\tyhat = predict(row, coef)\n",
    "\tprint(\"Expected=%.3f, Predicted=%.3f\" % (row[-1], yhat))"
   ]
  },
  {
   "cell_type": "markdown",
   "metadata": {},
   "source": [
    "### B. Esimating Coefficients\n",
    "\n",
    "\n",
    "\n",
    "### Given dataset with 6 point, the first is input value, and the second is the expected value\n",
    "\n",
    "dataset = [[1, 1], [2, 3], [4, 3], [3, 2], [5, 5], [6, 6]]\n",
    "\n",
    "l_rate = 0.01\n",
    "\n",
    "n_epoch = 50\n",
    "\n",
    "### Can you write a function to return coefficients based on stochastic gradient descent method "
   ]
  },
  {
   "cell_type": "code",
   "execution_count": 28,
   "metadata": {},
   "outputs": [
    {
     "name": "stdout",
     "output_type": "stream",
     "text": [
      ">epoch=0, lrate=0.010, error=45.322\n",
      ">epoch=1, lrate=0.010, error=7.151\n",
      ">epoch=2, lrate=0.010, error=3.359\n",
      ">epoch=3, lrate=0.010, error=3.053\n",
      ">epoch=4, lrate=0.010, error=3.053\n",
      ">epoch=5, lrate=0.010, error=3.064\n",
      ">epoch=6, lrate=0.010, error=3.068\n",
      ">epoch=7, lrate=0.010, error=3.069\n",
      ">epoch=8, lrate=0.010, error=3.069\n",
      ">epoch=9, lrate=0.010, error=3.068\n",
      ">epoch=10, lrate=0.010, error=3.068\n",
      ">epoch=11, lrate=0.010, error=3.067\n",
      ">epoch=12, lrate=0.010, error=3.067\n",
      ">epoch=13, lrate=0.010, error=3.066\n",
      ">epoch=14, lrate=0.010, error=3.066\n",
      ">epoch=15, lrate=0.010, error=3.065\n",
      ">epoch=16, lrate=0.010, error=3.064\n",
      ">epoch=17, lrate=0.010, error=3.064\n",
      ">epoch=18, lrate=0.010, error=3.063\n",
      ">epoch=19, lrate=0.010, error=3.063\n",
      ">epoch=20, lrate=0.010, error=3.063\n",
      ">epoch=21, lrate=0.010, error=3.062\n",
      ">epoch=22, lrate=0.010, error=3.062\n",
      ">epoch=23, lrate=0.010, error=3.061\n",
      ">epoch=24, lrate=0.010, error=3.061\n",
      ">epoch=25, lrate=0.010, error=3.060\n",
      ">epoch=26, lrate=0.010, error=3.060\n",
      ">epoch=27, lrate=0.010, error=3.059\n",
      ">epoch=28, lrate=0.010, error=3.059\n",
      ">epoch=29, lrate=0.010, error=3.059\n",
      ">epoch=30, lrate=0.010, error=3.058\n",
      ">epoch=31, lrate=0.010, error=3.058\n",
      ">epoch=32, lrate=0.010, error=3.058\n",
      ">epoch=33, lrate=0.010, error=3.057\n",
      ">epoch=34, lrate=0.010, error=3.057\n",
      ">epoch=35, lrate=0.010, error=3.057\n",
      ">epoch=36, lrate=0.010, error=3.056\n",
      ">epoch=37, lrate=0.010, error=3.056\n",
      ">epoch=38, lrate=0.010, error=3.056\n",
      ">epoch=39, lrate=0.010, error=3.055\n",
      ">epoch=40, lrate=0.010, error=3.055\n",
      ">epoch=41, lrate=0.010, error=3.055\n",
      ">epoch=42, lrate=0.010, error=3.054\n",
      ">epoch=43, lrate=0.010, error=3.054\n",
      ">epoch=44, lrate=0.010, error=3.054\n",
      ">epoch=45, lrate=0.010, error=3.054\n",
      ">epoch=46, lrate=0.010, error=3.053\n",
      ">epoch=47, lrate=0.010, error=3.053\n",
      ">epoch=48, lrate=0.010, error=3.053\n",
      ">epoch=49, lrate=0.010, error=3.053\n",
      "[0.1582964840002725, 0.9299780316132864]\n"
     ]
    }
   ],
   "source": [
    "# Make a prediction with coefficients\n",
    "def predict(row, coefficients):\n",
    "\tyhat = coefficients[0]\n",
    "\tfor i in range(len(row)-1):\n",
    "\t\tyhat += coefficients[i + 1] * row[i]\n",
    "\treturn yhat\n",
    " \n",
    "# Estimate linear regression coefficients using stochastic gradient descent\n",
    "def coefficients_sgd(train, l_rate, n_epoch):\n",
    "\tcoef = [0.0 for i in range(len(train[0]))]\n",
    "\tfor epoch in range(n_epoch):\n",
    "\t\tsum_error = 0\n",
    "\t\tfor row in train:\n",
    "\t\t\tyhat = predict(row, coef)\n",
    "\t\t\terror = yhat - row[-1]\n",
    "\t\t\tsum_error += error**2\n",
    "\t\t\tcoef[0] = coef[0] - l_rate * error\n",
    "\t\t\tfor i in range(len(row)-1):\n",
    "\t\t\t\tcoef[i + 1] = coef[i + 1] - l_rate * error * row[i]\n",
    "\t\tprint('>epoch=%d, lrate=%.3f, error=%.3f' % (epoch, l_rate, sum_error))\n",
    "\treturn coef\n",
    " \n",
    "# Calculate coefficients\n",
    "dataset = [[1, 1], [2, 3], [4, 3], [3, 2], [5, 5], [6, 6]]\n",
    "l_rate = 0.01\n",
    "n_epoch = 50\n",
    "coef = coefficients_sgd(dataset, l_rate, n_epoch)\n",
    "print(coef)"
   ]
  },
  {
   "cell_type": "markdown",
   "metadata": {},
   "source": [
    "###### C. Wine Quality Testing\n",
    "\n",
    "If we partition the data set uniformly into 6 parts, could you write a code to get the average value of absoulte error between prediction and expected (average over these 6 partitoned datasets)?"
   ]
  },
  {
   "cell_type": "code",
   "execution_count": 42,
   "metadata": {},
   "outputs": [
    {
     "name": "stdout",
     "output_type": "stream",
     "text": [
      "Average Absolute Error :: [0.001857861736841765, 0.017257287295664087, 0.009495939204653334, 0.014092527620667398, 0.01045875393378502, -0.007901567085587284]\n",
      "Average Absolute Error : 0.008\n"
     ]
    }
   ],
   "source": [
    "\n",
    "# Linear Regression With Stochastic Gradient Descent for Wine Quality\n",
    "from random import seed\n",
    "from random import randrange\n",
    "from csv import reader\n",
    "from math import sqrt\n",
    " \n",
    "# Load a CSV file\n",
    "def load_csv(filename):\n",
    "\tdataset = list()\n",
    "\twith open(filename, 'r') as file:\n",
    "\t\tcsv_reader = reader(file)\n",
    "\t\tfor row in csv_reader:\n",
    "\t\t\tif not row:\n",
    "\t\t\t\tcontinue\n",
    "\t\t\tdataset.append(row)\n",
    "\treturn dataset\n",
    " \n",
    "# Convert string column to float\n",
    "def str_column_to_float(dataset, column):\n",
    "\tfor row in dataset:\n",
    "\t\trow[column] = float(row[column].strip())\n",
    " \n",
    "# Find the min and max values for each column\n",
    "def dataset_minmax(dataset):\n",
    "\tminmax = list()\n",
    "\tfor i in range(len(dataset[0])):\n",
    "\t\tcol_values = [row[i] for row in dataset]\n",
    "\t\tvalue_min = min(col_values)\n",
    "\t\tvalue_max = max(col_values)\n",
    "\t\tminmax.append([value_min, value_max])\n",
    "\treturn minmax\n",
    " \n",
    "# Rescale dataset columns to the range 0-1\n",
    "def normalize_dataset(dataset, minmax):\n",
    "\tfor row in dataset:\n",
    "\t\tfor i in range(len(row)):\n",
    "\t\t\trow[i] = (row[i] - minmax[i][0]) / (minmax[i][1] - minmax[i][0])\n",
    " \n",
    "# Split a dataset into k folds\n",
    "def cross_validation_split(dataset, n_folds):\n",
    "\tdataset_split = list()\n",
    "\tdataset_copy = list(dataset)\n",
    "\tfold_size = int(len(dataset) / n_folds)\n",
    "\tfor i in range(n_folds):\n",
    "\t\tfold = list()\n",
    "\t\twhile len(fold) < fold_size:\n",
    "\t\t\tindex = randrange(len(dataset_copy))\n",
    "\t\t\tfold.append(dataset_copy.pop(index))\n",
    "\t\tdataset_split.append(fold)\n",
    "\treturn dataset_split\n",
    " \n",
    "# Calculate absolute error\n",
    "def absolute(actual, predicted):\n",
    "\tsum_error = 0.0\n",
    "\tfor i in range(len(actual)):\n",
    "\t\terror = predicted[i] - actual[i]\n",
    "\t\tsum_error += (error )\n",
    "\taverage_error = sum_error / float(len(actual))\n",
    "\treturn (average_error)\n",
    " \n",
    "# Evaluate an algorithm using a cross validation split\n",
    "def evaluate_algorithm(dataset, algorithm, n_folds, *args):\n",
    "\tfolds = cross_validation_split(dataset, n_folds)\n",
    "\tscores = list()\n",
    "\tfor fold in folds:\n",
    "\t\ttrain_set = list(folds)\n",
    "\t\ttrain_set.remove(fold)\n",
    "\t\ttrain_set = sum(train_set, [])\n",
    "\t\ttest_set = list()\n",
    "\t\tfor row in fold:\n",
    "\t\t\trow_copy = list(row)\n",
    "\t\t\ttest_set.append(row_copy)\n",
    "\t\t\trow_copy[-1] = None\n",
    "\t\tpredicted = algorithm(train_set, test_set, *args)\n",
    "\t\tactual = [row[-1] for row in fold]\n",
    "\t\tabsoluteError = absolute(actual, predicted)\n",
    "\t\tscores.append(absoluteError)\n",
    "\treturn scores\n",
    " \n",
    "# Make a prediction with coefficients\n",
    "def predict(row, coefficients):\n",
    "\tyhat = coefficients[0]\n",
    "\tfor i in range(len(row)-1):\n",
    "\t\tyhat += coefficients[i + 1] * row[i]\n",
    "\treturn yhat\n",
    " \n",
    "# Estimate linear regression coefficients using stochastic gradient descent\n",
    "def coefficients_sgd(train, l_rate, n_epoch):\n",
    "\tcoef = [0.0 for i in range(len(train[0]))]\n",
    "\tfor epoch in range(n_epoch):\n",
    "\t\tfor row in train:\n",
    "\t\t\tyhat = predict(row, coef)\n",
    "\t\t\terror = yhat - row[-1]\n",
    "\t\t\tcoef[0] = coef[0] - l_rate * error\n",
    "\t\t\tfor i in range(len(row)-1):\n",
    "\t\t\t\tcoef[i + 1] = coef[i + 1] - l_rate * error * row[i]\n",
    "\t\t\t# print(l_rate, n_epoch, error)\n",
    "\treturn coef\n",
    " \n",
    "# Linear Regression Algorithm With Stochastic Gradient Descent\n",
    "def linear_regression_sgd(train, test, l_rate, n_epoch):\n",
    "\tpredictions = list()\n",
    "\tcoef = coefficients_sgd(train, l_rate, n_epoch)\n",
    "\tfor row in test:\n",
    "\t\tyhat = predict(row, coef)\n",
    "\t\tpredictions.append(yhat)\n",
    "\treturn(predictions)\n",
    " \n",
    "# Linear Regression on wine quality dataset\n",
    "seed(1)\n",
    "# load and prepare data\n",
    "filename = 'winequality-white.csv'\n",
    "dataset = load_csv(filename)\n",
    "for i in range(len(dataset[0])):\n",
    "\tstr_column_to_float(dataset, i)\n",
    "# normalize\n",
    "minmax = dataset_minmax(dataset)\n",
    "normalize_dataset(dataset, minmax)\n",
    "# evaluate algorithm\n",
    "n_folds = 6\n",
    "l_rate = 0.01\n",
    "n_epoch = 50\n",
    "scores = evaluate_algorithm(dataset, linear_regression_sgd, n_folds, l_rate, n_epoch)\n",
    "print('Average Absolute Error :: %s' % scores)\n",
    "print('Average Absolute Error : %.3f' % (sum(scores)/float(len(scores))))\n"
   ]
  },
  {
   "cell_type": "markdown",
   "metadata": {},
   "source": [
    "### Naive Bayes Classifier for Digit Recognition (30%)"
   ]
  },
  {
   "cell_type": "code",
   "execution_count": null,
   "metadata": {},
   "outputs": [],
   "source": [
    "# This tells matplotlib not to try opening a new window for each plot.\n",
    "%matplotlib inline\n",
    "\n",
    "# Import a bunch of libraries.\n",
    "import time\n",
    "import numpy as np\n",
    "import matplotlib.pyplot as plt\n",
    "from matplotlib.ticker import MultipleLocator\n",
    "from sklearn.pipeline import Pipeline\n",
    "from sklearn.datasets import fetch_mldata\n",
    "from sklearn.neighbors import KNeighborsClassifier\n",
    "from sklearn.metrics import confusion_matrix\n",
    "from sklearn.linear_model import LinearRegression\n",
    "from sklearn.naive_bayes import BernoulliNB\n",
    "from sklearn.naive_bayes import MultinomialNB\n",
    "from sklearn.naive_bayes import GaussianNB\n",
    "from sklearn.grid_search import GridSearchCV\n",
    "from sklearn.metrics import classification_report\n",
    "import scipy.io\n",
    "\n",
    "\n",
    "# Set the randomizer seed so results are the same each time.\n",
    "np.random.seed(0)"
   ]
  },
  {
   "cell_type": "code",
   "execution_count": 4,
   "metadata": {
    "scrolled": true
   },
   "outputs": [
    {
     "ename": "NameError",
     "evalue": "name 'np' is not defined",
     "output_type": "error",
     "traceback": [
      "\u001b[0;31m---------------------------------------------------------------------------\u001b[0m",
      "\u001b[0;31mNameError\u001b[0m                                 Traceback (most recent call last)",
      "\u001b[0;32m<ipython-input-4-a0be410608aa>\u001b[0m in \u001b[0;36m<module>\u001b[0;34m()\u001b[0m\n\u001b[1;32m     19\u001b[0m \u001b[0;31m# permutation to X and Y.\u001b[0m\u001b[0;34m\u001b[0m\u001b[0;34m\u001b[0m\u001b[0m\n\u001b[1;32m     20\u001b[0m \u001b[0;31m# NOTE: Each time you run this cell, you'll re-shuffle the data, resulting in a different ordering.\u001b[0m\u001b[0;34m\u001b[0m\u001b[0;34m\u001b[0m\u001b[0m\n\u001b[0;32m---> 21\u001b[0;31m \u001b[0mshuffle\u001b[0m \u001b[0;34m=\u001b[0m \u001b[0mnp\u001b[0m\u001b[0;34m.\u001b[0m\u001b[0mrandom\u001b[0m\u001b[0;34m.\u001b[0m\u001b[0mpermutation\u001b[0m\u001b[0;34m(\u001b[0m\u001b[0mnp\u001b[0m\u001b[0;34m.\u001b[0m\u001b[0marange\u001b[0m\u001b[0;34m(\u001b[0m\u001b[0mX\u001b[0m\u001b[0;34m.\u001b[0m\u001b[0mshape\u001b[0m\u001b[0;34m[\u001b[0m\u001b[0;36m0\u001b[0m\u001b[0;34m]\u001b[0m\u001b[0;34m)\u001b[0m\u001b[0;34m)\u001b[0m\u001b[0;34m\u001b[0m\u001b[0m\n\u001b[0m\u001b[1;32m     22\u001b[0m \u001b[0mX\u001b[0m\u001b[0;34m,\u001b[0m \u001b[0mY\u001b[0m \u001b[0;34m=\u001b[0m \u001b[0mX\u001b[0m\u001b[0;34m[\u001b[0m\u001b[0mshuffle\u001b[0m\u001b[0;34m]\u001b[0m\u001b[0;34m,\u001b[0m \u001b[0mY\u001b[0m\u001b[0;34m[\u001b[0m\u001b[0mshuffle\u001b[0m\u001b[0;34m]\u001b[0m\u001b[0;34m\u001b[0m\u001b[0m\n\u001b[1;32m     23\u001b[0m \u001b[0;34m\u001b[0m\u001b[0m\n",
      "\u001b[0;31mNameError\u001b[0m: name 'np' is not defined"
     ]
    }
   ],
   "source": [
    "\n",
    "\n",
    "# Load the digit data either from mldata.org, or once downloaded to data_home, from disk. The data is about 53MB so this cell\n",
    "# should take a while the first time your run it.\n",
    "# mnist = scipy.io.loadmat('C:\\\\Users\\\\lenovo\\\\Downloads\\\\mnist-original.mat')\n",
    "# from sklearn.datasets import fetch_mldata\n",
    "custom_data_home = '/Users/thol/Downloads'\n",
    "mnist = fetch_mldata('mnist-original', data_home='/Users/thol/Downloads')\n",
    "#from sklearn.datasets import fetch_mldata\n",
    "#import tempfile\n",
    "#test_data_home = tempfile.mkdtemp()\n",
    "#mnist = fetch_mldata('MNIST original', data_home = custom_data_home)\n",
    "X, Y = mnist.data, mnist.target\n",
    "\n",
    "# Rescale grayscale values to [0,1].\n",
    "X = X / 255.0\n",
    "\n",
    "# Shuffle the input: create a random permutation of the integers between 0 and the number of data points and apply this\n",
    "# permutation to X and Y.\n",
    "# NOTE: Each time you run this cell, you'll re-shuffle the data, resulting in a different ordering.\n",
    "shuffle = np.random.permutation(np.arange(X.shape[0]))\n",
    "X, Y = X[shuffle], Y[shuffle]\n",
    "\n",
    "print('data shape: ', X.shape)\n",
    "print('label shape:', Y.shape)\n",
    "\n",
    "\n",
    "\n",
    "# Set some variables to hold test, dev, and training data.\n",
    "test_data, test_labels = X[61000:], Y[61000:]\n",
    "dev_data, dev_labels = X[60000:61000], Y[60000:61000]\n",
    "train_data, train_labels = X[:60000], Y[:60000]\n",
    "mini_train_data, mini_train_labels = X[:1000], Y[:1000]"
   ]
  },
  {
   "cell_type": "code",
   "execution_count": null,
   "metadata": {},
   "outputs": [],
   "source": [
    "plt.imshow(X[0].reshape(28, 28))\n",
    "plt.show()"
   ]
  },
  {
   "cell_type": "code",
   "execution_count": null,
   "metadata": {},
   "outputs": [],
   "source": [
    "#converting into 0 and 1 \n",
    "X1=X\n",
    "\n",
    "for i in X1:\n",
    "    for j,e in enumerate(i):\n",
    "        if e <=0.5:\n",
    "            i[j] =0\n",
    "        else:\n",
    "            i[j]=1"
   ]
  },
  {
   "cell_type": "code",
   "execution_count": null,
   "metadata": {},
   "outputs": [],
   "source": [
    "X1[0]"
   ]
  },
  {
   "cell_type": "markdown",
   "metadata": {},
   "source": [
    "### A. Create a 10x10 grid to visualize 10 examples of each digit."
   ]
  },
  {
   "cell_type": "code",
   "execution_count": 88,
   "metadata": {},
   "outputs": [
    {
     "data": {
      "image/png": "[encoded data removed]",
      "text/plain": [
       "<Figure size 432x288 with 1 Axes>"
      ]
     },
     "metadata": {},
     "output_type": "display_data"
    }
   ],
   "source": [
    "def showsample(data,n):\n",
    "    blocked=data[:n*n].reshape((n,n,28,28))\n",
    "    grid=list(map(list,blocked))\n",
    "    plt.imshow(np.block(grid))\n",
    "    plt.show()\n",
    "    \n",
    "showsample(mini_train_data,10)"
   ]
  },
  {
   "cell_type": "markdown",
   "metadata": {},
   "source": [
    "# B.  Fit a Naive Bayes classifier and report accuracy on the dev data. Remember that Naive Bayes estimates P(feature|label). While sklearn can handle real-valued features, let's start by mapping the pixel values to either 0 or 1. You can do this as a preprocessing step, or with the binarize argument. With binary-valued features, you can use BernoulliNB. Next try mapping the pixel values to 0, 1, or 2, repres  enting white, grey, or black. This mapping requires MultinomialNB. Does the multi-class version improve the results? Why or why not?\n",
    "### Note, the answers may vary depending on what thresholds you set."
   ]
  },
  {
   "cell_type": "code",
   "execution_count": 89,
   "metadata": {},
   "outputs": [
    {
     "data": {
      "image/png": "[encoded data removed]",
      "text/plain": [
       "<Figure size 432x288 with 1 Axes>"
      ]
     },
     "metadata": {},
     "output_type": "display_data"
    }
   ],
   "source": [
    "def showsample(data, n):\n",
    "    blocked = data[:n * n].reshape((n, n, 28, 28))\n",
    "    grid = list(map(list, blocked))\n",
    "    plt.imshow(np.block(grid))\n",
    "    plt.show()\n",
    "    \n",
    "showsample(mini_train_data, 10)"
   ]
  },
  {
   "cell_type": "code",
   "execution_count": 90,
   "metadata": {},
   "outputs": [
    {
     "data": {
      "image/png": "[encoded data removed]",
      "text/plain": [
       "<Figure size 432x288 with 1 Axes>"
      ]
     },
     "metadata": {},
     "output_type": "display_data"
    }
   ],
   "source": [
    "from sklearn.preprocessing import binarize\n",
    "\n",
    "bindata=binarize(train_data)\n",
    "showsample(bindata,10)"
   ]
  },
  {
   "cell_type": "code",
   "execution_count": null,
   "metadata": {},
   "outputs": [],
   "source": [
    "(clf.predict(test_data)==test_labels).sum()/test_data.shape[0]"
   ]
  },
  {
   "cell_type": "code",
   "execution_count": 91,
   "metadata": {},
   "outputs": [
    {
     "data": {
      "image/png": "[encoded data removed]",
      "text/plain": [
       "<Figure size 432x288 with 1 Axes>"
      ]
     },
     "metadata": {},
     "output_type": "display_data"
    }
   ],
   "source": [
    "def extremize(x):\n",
    "    if(x<0.25):\n",
    "        return 0\n",
    "    elif(x<0.75):\n",
    "        return 1\n",
    "    else:\n",
    "        return 2\n",
    "    \n",
    "train_data.reshape(1,-1).shape\n",
    "threesided=np.vectorize(extremize)(train_data)\n",
    "showsample(threesided,10)"
   ]
  },
  {
   "cell_type": "code",
   "execution_count": null,
   "metadata": {},
   "outputs": [],
   "source": [
    "clf=MultinomialNB()\n",
    "clf.fit(threesided,train_labels)\n"
   ]
  },
  {
   "cell_type": "code",
   "execution_count": 94,
   "metadata": {},
   "outputs": [
    {
     "data": {
      "text/plain": [
       "0.8275555555555556"
      ]
     },
     "execution_count": 94,
     "metadata": {},
     "output_type": "execute_result"
    }
   ],
   "source": [
    "def extremize(x):\n",
    "    return np.floor(x*3)\n",
    "train_data.reshape(1,-1).shape\n",
    "threshold=np.vectorize(extremize)(train_data)\n",
    "clf=MultinomialNB()\n",
    "clf.fit(threesided,train_labels)\n",
    "(clf.predict(test_data)==test_labels).sum()/test_data.shape[0]"
   ]
  },
  {
   "cell_type": "markdown",
   "metadata": {},
   "source": [
    "### C. Try training a model using GuassianNB, which is intended for real-valued features, and evaluate on the dev data. You'll notice that it doesn't work so well. Could you explain why?"
   ]
  },
  {
   "cell_type": "code",
   "execution_count": 87,
   "metadata": {},
   "outputs": [
    {
     "data": {
      "text/plain": [
       "0.451"
      ]
     },
     "execution_count": 87,
     "metadata": {},
     "output_type": "execute_result"
    }
   ],
   "source": [
    "from sklearn.naive_bayes import GaussianNB\n",
    "clf = GaussianNB()\n",
    "\n",
    "clf.fit(train_data, train_labels)\n",
    "\n",
    "\n",
    "(clf.predict(dev_data)!=dev_labels).sum()/dev_data.shape[0]\n",
    "\n"
   ]
  },
  {
   "cell_type": "code",
   "execution_count": null,
   "metadata": {},
   "outputs": [],
   "source": []
  }
 ],
 "metadata": {
  "kernelspec": {
   "display_name": "Python 3",
   "language": "python",
   "name": "python3"
  },
  "language_info": {
   "codemirror_mode": {
    "name": "ipython",
    "version": 3
   },
   "file_extension": ".py",
   "mimetype": "text/x-python",
   "name": "python",
   "nbconvert_exporter": "python",
   "pygments_lexer": "ipython3",
   "version": "3.6.4"
  }
 },
 "nbformat": 4,
 "nbformat_minor": 2
}

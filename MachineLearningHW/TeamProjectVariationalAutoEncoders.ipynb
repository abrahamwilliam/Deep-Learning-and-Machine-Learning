{
 "cells": [
  {
   "cell_type": "code",
   "execution_count": 1,
   "metadata": {},
   "outputs": [],
   "source": [
    "import os\n",
    "os.environ[\"GOOGLE_APPLICATION_CREDENTIALS\"]=\"/Users/thol/Downloads/cmpe257_gcloud_jupyter.json\""
   ]
  },
  {
   "cell_type": "code",
   "execution_count": 2,
   "metadata": {},
   "outputs": [
    {
     "ename": "NotFoundError",
     "evalue": "Could not find directory",
     "output_type": "error",
     "traceback": [
      "\u001b[0;31m---------------------------------------------------------------------------\u001b[0m",
      "\u001b[0;31mNotFoundError\u001b[0m                             Traceback (most recent call last)",
      "\u001b[0;32m<ipython-input-2-124e45928c44>\u001b[0m in \u001b[0;36m<module>\u001b[0;34m()\u001b[0m\n\u001b[1;32m     31\u001b[0m \u001b[0mDIR\u001b[0m \u001b[0;34m=\u001b[0m \u001b[0;34m\"gs://mobgen_training_data/Images/\"\u001b[0m\u001b[0;34m\u001b[0m\u001b[0m\n\u001b[1;32m     32\u001b[0m \u001b[0mout\u001b[0m \u001b[0;34m=\u001b[0m \u001b[0;34m\"gs://mobgen_training_data/train.csv\"\u001b[0m\u001b[0;34m\u001b[0m\u001b[0m\n\u001b[0;32m---> 33\u001b[0;31m \u001b[0mimgnms\u001b[0m \u001b[0;34m=\u001b[0m \u001b[0mtf\u001b[0m\u001b[0;34m.\u001b[0m\u001b[0mgfile\u001b[0m\u001b[0;34m.\u001b[0m\u001b[0mListDirectory\u001b[0m\u001b[0;34m(\u001b[0m\u001b[0mDIR\u001b[0m\u001b[0;34m)\u001b[0m\u001b[0;34m\u001b[0m\u001b[0m\n\u001b[0m\u001b[1;32m     34\u001b[0m \u001b[0mimgnms\u001b[0m\u001b[0;34m[\u001b[0m\u001b[0;36m0\u001b[0m\u001b[0;34m]\u001b[0m \u001b[0;31m#Should print 'Airi.png'\u001b[0m\u001b[0;34m\u001b[0m\u001b[0m\n\u001b[1;32m     35\u001b[0m \u001b[0;34m\u001b[0m\u001b[0m\n",
      "\u001b[0;32m~/anaconda3/envs/tensorflow/lib/python3.6/site-packages/tensorflow/python/lib/io/file_io.py\u001b[0m in \u001b[0;36mlist_directory\u001b[0;34m(dirname)\u001b[0m\n\u001b[1;32m    412\u001b[0m   \"\"\"\n\u001b[1;32m    413\u001b[0m   \u001b[0;32mif\u001b[0m \u001b[0;32mnot\u001b[0m \u001b[0mis_directory\u001b[0m\u001b[0;34m(\u001b[0m\u001b[0mdirname\u001b[0m\u001b[0;34m)\u001b[0m\u001b[0;34m:\u001b[0m\u001b[0;34m\u001b[0m\u001b[0m\n\u001b[0;32m--> 414\u001b[0;31m     \u001b[0;32mraise\u001b[0m \u001b[0merrors\u001b[0m\u001b[0;34m.\u001b[0m\u001b[0mNotFoundError\u001b[0m\u001b[0;34m(\u001b[0m\u001b[0;32mNone\u001b[0m\u001b[0;34m,\u001b[0m \u001b[0;32mNone\u001b[0m\u001b[0;34m,\u001b[0m \u001b[0;34m\"Could not find directory\"\u001b[0m\u001b[0;34m)\u001b[0m\u001b[0;34m\u001b[0m\u001b[0m\n\u001b[0m\u001b[1;32m    415\u001b[0m   \u001b[0;32mwith\u001b[0m \u001b[0merrors\u001b[0m\u001b[0;34m.\u001b[0m\u001b[0mraise_exception_on_not_ok_status\u001b[0m\u001b[0;34m(\u001b[0m\u001b[0;34m)\u001b[0m \u001b[0;32mas\u001b[0m \u001b[0mstatus\u001b[0m\u001b[0;34m:\u001b[0m\u001b[0;34m\u001b[0m\u001b[0m\n\u001b[1;32m    416\u001b[0m     \u001b[0;31m# Convert each element to string, since the return values of the\u001b[0m\u001b[0;34m\u001b[0m\u001b[0;34m\u001b[0m\u001b[0m\n",
      "\u001b[0;31mNotFoundError\u001b[0m: Could not find directory"
     ]
    }
   ],
   "source": [
    "# Cell 1\n",
    "from google.cloud import storage\n",
    "import numpy as np\n",
    "import cv2\n",
    "import matplotlib.pyplot as plt\n",
    "import csv\n",
    "from ipywidgets import FloatProgress\n",
    "from IPython.display import display\n",
    "import tensorflow as tf\n",
    "from tensorflow.python.lib.io import file_io\n",
    "\n",
    "def resize(img):\n",
    "    shape = img.shape\n",
    "    if shape[1] > 480 or shape[0] > 320:\n",
    "        scale = min(480 / shape[1], 320 / shape[0])\n",
    "        img = cv2.resize(img, dsize=(0,0), fx=scale, fy=scale, interpolation=cv2.INTER_AREA)\n",
    "\n",
    "    shape = img.shape   \n",
    "    if shape[1] < 480 or shape[0] < 320:\n",
    "        v = 320 - shape[0]\n",
    "        top = v // 2\n",
    "        bottom = v - top\n",
    "\n",
    "        h = 480 - shape[1]\n",
    "        left = h // 2\n",
    "        right = h - left\n",
    "\n",
    "        img = cv2.copyMakeBorder(img, top, bottom, left, right, cv2.BORDER_CONSTANT, value=(0, 0, 0, 0))\n",
    "        \n",
    "    return img\n",
    "DIR = \"gs://mobgen_training_data/Images/\"\n",
    "out = \"gs://mobgen_training_data/train.csv\"\n",
    "imgnms = tf.gfile.ListDirectory(DIR)\n",
    "imgnms[0] #Should print 'Airi.png'\n",
    "\n",
    "#Cell 2\n",
    "f=FloatProgress(min=0, max=703, description='0')\n",
    "display(f) #Should make a progress bar appear.\n",
    "\n",
    "#Cell 3\n",
    "i = 0\n",
    "while i< len(imgnms):    \n",
    "    with file_io.FileIO(out, 'wb') as outfile:\n",
    "        while True: \n",
    "            i+=1\n",
    "            fname = imgnms[i]\n",
    "            f.value = i\n",
    "            f.description = str(i)\n",
    "            with file_io.FileIO(DIR + fname, 'rb') as imgfile:\n",
    "                img = cv2.imdecode(np.frombuffer(imgfile.read(),np.uint8), cv2.IMREAD_UNCHANGED)\n",
    "                img = resize(img)\n",
    "\n",
    "                alpha = img[:,:,3]\n",
    "                img = cv2.cvtColor(img, cv2.COLOR_RGB2HLS)\n",
    "\n",
    "                hl = img[:,:,(0,1)]\n",
    "                sa = np.dstack([img[:,:,1], alpha])\n",
    "\n",
    "                hl = np.frompyfunc(lambda acc, nxt: 256 * acc + nxt, 2, 1).reduce(hl, axis=2).ravel() / 256 ** 2\n",
    "                sa = np.frompyfunc(lambda acc, nxt: 256 * acc + nxt, 2, 1).reduce(sa, axis=2).ravel() / 256 ** 2\n",
    "\n",
    "                hlsa = np.empty((hl.size + sa.size,), dtype=np.float32)\n",
    "                hlsa[0::2] = hl\n",
    "                hlsa[1::2] = sa\n",
    "\n",
    "                np.savetxt(outfile, hlsa.reshape(1, -1), delimiter=',', header='', footer='')\n",
    "            if i % 25 == 0:\n",
    "                break"
   ]
  },
  {
   "cell_type": "code",
   "execution_count": null,
   "metadata": {},
   "outputs": [],
   "source": []
  },
  {
   "cell_type": "code",
   "execution_count": null,
   "metadata": {},
   "outputs": [],
   "source": []
  }
 ],
 "metadata": {
  "kernelspec": {
   "display_name": "Python 3",
   "language": "python",
   "name": "python3"
  },
  "language_info": {
   "codemirror_mode": {
    "name": "ipython",
    "version": 3
   },
   "file_extension": ".py",
   "mimetype": "text/x-python",
   "name": "python",
   "nbconvert_exporter": "python",
   "pygments_lexer": "ipython3",
   "version": "3.6.6"
  }
 },
 "nbformat": 4,
 "nbformat_minor": 2
}
